{
 "cells": [
  {
   "cell_type": "code",
   "execution_count": 1,
   "metadata": {},
   "outputs": [
    {
     "name": "stdout",
     "output_type": "stream",
     "text": [
      "['61.135.217.7', '118.178.124.33', '180.168.179.193', '61.155.164.107', '61.155.164.108', '49.64.68.36', '121.14.170.230', '110.72.25.124', '121.31.103.4', '61.155.164.110', '121.13.54.217', '14.211.35.140', '36.48.28.219', '61.155.164.111', '218.18.232.29', '101.68.73.54', '121.13.55.212', '113.121.241.89', '125.118.240.125', '182.96.194.88', '110.73.3.253', '119.29.158.87', '210.76.163.216', '120.25.164.134', '27.159.126.183', '222.82.248.74', '171.37.161.60', '113.65.21.37', '58.87.74.207', '27.22.49.46', '202.105.111.104', '117.78.37.198', '118.187.58.34', '125.46.0.62', '113.200.214.164', '60.187.167.26', '110.72.18.223', '60.209.141.125', '58.243.50.184', '113.79.75.94', '36.97.145.29', '121.228.77.83', '182.41.212.18', '110.73.10.143', '58.20.246.206', '27.46.74.32', '223.153.207.111', '110.73.3.58', '110.73.48.190', '27.46.74.27', '118.119.168.172', '218.20.55.224', '115.221.121.95', '110.73.4.97', '110.73.8.202', '59.38.62.169', '111.155.116.218', '111.155.116.215', '113.105.157.216', '27.46.74.26', '60.177.212.144', '121.31.103.140', '115.56.135.27', '223.241.119.129', '162.105.86.202', '139.224.238.223', '106.57.7.6', '175.7.224.24', '115.46.149.144', '119.39.114.166', '222.186.45.57', '59.40.51.214', '58.251.235.118', '110.73.163.178', '59.40.68.243', '110.73.10.200', '121.31.85.233', '171.38.15.204', '111.155.116.217', '111.155.124.73', '222.186.45.59', '125.81.68.40', '42.84.43.226', '113.228.63.62', '183.129.6.108', '119.145.203.58', '59.40.51.46', '36.248.207.31', '121.31.103.236', '218.56.38.46', '124.237.128.18', '111.155.116.212', '61.178.238.122', '110.73.35.8', '114.232.105.88', '117.95.83.220', '14.211.119.233', '124.118.16.198', '119.136.198.137', '111.155.124.74'] 100\n"
     ]
    }
   ],
   "source": [
    "import requests\n",
    "from lxml import etree\n",
    "import time\n",
    "url='http://www.xicidaili.com/wt/{}'.format(1)\n",
    "header={'User-Agent':'Mozilla/5.0 (Windows NT 10.0; Win64; x64) AppleWebKit/537.36 (KHTML, like Gecko) Chrome/61.0.3163.100 Safari/537.36'}\n",
    "res=requests.get(url,headers=header)\n",
    "html=etree.HTML(res.text)\n",
    "tr_list=html.xpath('//div[@id=\"body\"]/table[@id=\"ip_list\"]/tr')\n",
    "ip_list=tr_list[0].xpath(\"//td[2]/text()\")\n",
    "print(ip_list,len(ip_list))"
   ]
  },
  {
   "cell_type": "code",
   "execution_count": 11,
   "metadata": {},
   "outputs": [],
   "source": [
    "import requests\n",
    "import random\n",
    "import time\n",
    "class DownLoad():\n",
    "    def __init__(self):\n",
    "        self.ip_list=[]\n",
    "        url='http://www.xicidaili.com/wt/{}'.format(1)\n",
    "        header={'User-Agent':'Mozilla/5.0 (Windows NT 10.0; Win64; x64) AppleWebKit/537.36 (KHTML, like Gecko) Chrome/61.0.3163.100 Safari/537.36'}\n",
    "        res=requests.get(url,headers=header)\n",
    "        html=etree.HTML(res.text)\n",
    "        tr_list=html.xpath('//div[@id=\"body\"]/table[@id=\"ip_list\"]/tr')\n",
    "        self.ip_list=tr_list[0].xpath(\"//td[2]/text()\")\n",
    "        self.user_agent_list=[\n",
    "            'Mozilla/5.0 (Windows NT 6.1; WOW64) AppleWebKit/537.36 (KHTML, like Gecko) Chrome/39.0.2171.71 Safari/537.36',\n",
    "            'Mozilla/5.0 (X11; Linux x86_64) AppleWebKit/537.11 (KHTML, like Gecko) Chrome/23.0.1271.64 Safari/537.11',\n",
    "            'Mozilla/5.0 (Windows; U; Windows NT 6.1; en-US) AppleWebKit/534.16 (KHTML, like Gecko) Chrome/10.0.648.133 Safari/534.16'\n",
    "        ]\n",
    "    #url:q请求的url，proxy代理ip，timeout=20，num重复的次数\n",
    "    def get(self,url,proxy=None,timeout=20,num=4):\n",
    "        print(\"正在请求：\",url)\n",
    "        UA=random.choice(self.user_agent_list)\n",
    "        headers={'User-Agent':UA}\n",
    "        \n",
    "        if proxy==None:\n",
    "            try:\n",
    "                return requests.get(url,headers=headers,timeout=timeout)\n",
    "            except:\n",
    "                if num>0:\n",
    "                    time.sleep(10)\n",
    "                    return self.get(url,num=num-1)\n",
    "                else:\n",
    "                    time.sleep(10)\n",
    "                    IP=''.join(random.choice(self.ip_list).strip())\n",
    "                    proxy={'http':IP}\n",
    "                    return self.get(url,proxy=proxy,timeout=timeout)\n",
    "        else:\n",
    "            try:\n",
    "                IP=''.join(random.choice(self.ip_list).strip())\n",
    "                proxy={'http':IP}\n",
    "                return requests.get(url,headers=headers,proxies=proxy,timeout=timeout)\n",
    "            except:\n",
    "                if num>0:\n",
    "                    time.sleep(10)\n",
    "                    IP=''.join(random.choice(self.ip_list).strip())\n",
    "                    proxy={'http':IP}\n",
    "                    print(\"正在更换代理\")\n",
    "                    print(\"当前代理：\",proxy)\n",
    "                    return self.get(url,proxy=proxy,num=num-1)"
   ]
  },
  {
   "cell_type": "code",
   "execution_count": 12,
   "metadata": {},
   "outputs": [
    {
     "name": "stdout",
     "output_type": "stream",
     "text": [
      "正在请求： www.baidu.com\n",
      "正在请求： www.baidu.com\n",
      "正在请求： www.baidu.com\n",
      "正在请求： www.baidu.com\n",
      "正在请求： www.baidu.com\n",
      "正在请求： www.baidu.com\n",
      "正在更换代理\n",
      "当前代理： {'http': '121.14.170.230'}\n",
      "正在请求： www.baidu.com\n",
      "正在更换代理\n",
      "当前代理： {'http': '61.155.164.110'}\n",
      "正在请求： www.baidu.com\n",
      "正在更换代理\n",
      "当前代理： {'http': '14.211.35.140'}\n",
      "正在请求： www.baidu.com\n",
      "正在更换代理\n",
      "当前代理： {'http': '110.73.8.202'}\n",
      "正在请求： www.baidu.com\n"
     ]
    }
   ],
   "source": [
    "dl=DownLoad()\n",
    "dl.get('www.baidu.com')"
   ]
  },
  {
   "cell_type": "code",
   "execution_count": 13,
   "metadata": {},
   "outputs": [
    {
     "name": "stdout",
     "output_type": "stream",
     "text": [
      "正在请求： www.baidu.com\n",
      "正在请求： www.baidu.com\n",
      "正在请求： www.baidu.com\n",
      "正在请求： www.baidu.com\n",
      "正在请求： www.baidu.com\n",
      "正在请求： www.baidu.com\n",
      "正在更换代理\n",
      "当前代理： {'http': '113.121.241.89'}\n",
      "正在请求： www.baidu.com\n",
      "正在更换代理\n",
      "当前代理： {'http': '120.25.164.134'}\n",
      "正在请求： www.baidu.com\n",
      "正在更换代理\n",
      "当前代理： {'http': '121.31.103.140'}\n",
      "正在请求： www.baidu.com\n",
      "正在更换代理\n",
      "当前代理： {'http': '113.121.241.89'}\n",
      "正在请求： www.baidu.com\n"
     ]
    },
    {
     "ename": "AttributeError",
     "evalue": "'NoneType' object has no attribute 'text'",
     "output_type": "error",
     "traceback": [
      "\u001b[1;31m---------------------------------------------------------------------------\u001b[0m",
      "\u001b[1;31mAttributeError\u001b[0m                            Traceback (most recent call last)",
      "\u001b[1;32m<ipython-input-13-e0a57a34d2da>\u001b[0m in \u001b[0;36m<module>\u001b[1;34m()\u001b[0m\n\u001b[0;32m      1\u001b[0m \u001b[0mhtml\u001b[0m\u001b[1;33m=\u001b[0m\u001b[0mdl\u001b[0m\u001b[1;33m.\u001b[0m\u001b[0mget\u001b[0m\u001b[1;33m(\u001b[0m\u001b[1;34m'www.baidu.com'\u001b[0m\u001b[1;33m)\u001b[0m\u001b[1;33m\u001b[0m\u001b[0m\n\u001b[1;32m----> 2\u001b[1;33m \u001b[0mprint\u001b[0m\u001b[1;33m(\u001b[0m\u001b[0mhtml\u001b[0m\u001b[1;33m.\u001b[0m\u001b[0mtext\u001b[0m\u001b[1;33m)\u001b[0m\u001b[1;33m\u001b[0m\u001b[0m\n\u001b[0m",
      "\u001b[1;31mAttributeError\u001b[0m: 'NoneType' object has no attribute 'text'"
     ]
    }
   ],
   "source": [
    "html=dl.get('www.baidu.com')\n",
    "print(html.text)"
   ]
  },
  {
   "cell_type": "code",
   "execution_count": null,
   "metadata": {
    "collapsed": true
   },
   "outputs": [],
   "source": []
  }
 ],
 "metadata": {
  "kernelspec": {
   "display_name": "Python 3",
   "language": "python",
   "name": "python3"
  },
  "language_info": {
   "codemirror_mode": {
    "name": "ipython",
    "version": 3
   },
   "file_extension": ".py",
   "mimetype": "text/x-python",
   "name": "python",
   "nbconvert_exporter": "python",
   "pygments_lexer": "ipython3",
   "version": "3.6.1"
  }
 },
 "nbformat": 4,
 "nbformat_minor": 2
}
