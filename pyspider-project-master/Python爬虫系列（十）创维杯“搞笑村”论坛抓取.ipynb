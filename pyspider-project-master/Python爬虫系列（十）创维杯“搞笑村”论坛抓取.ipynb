{
 "cells": [
  {
   "cell_type": "code",
   "execution_count": 49,
   "metadata": {
    "collapsed": false
   },
   "outputs": [],
   "source": [
    "# find_all()的返回值类型  <class 'bs4.element.ResultSet'>\n",
    "# select()的返回值类型   <class 'list'>"
   ]
  },
  {
   "cell_type": "code",
   "execution_count": 9,
   "metadata": {
    "collapsed": false
   },
   "outputs": [
    {
     "data": {
      "text/plain": [
       "'\\n的分数高如果认购二哥让他退给我'"
      ]
     },
     "execution_count": 9,
     "metadata": {},
     "output_type": "execute_result"
    }
   ],
   "source": [
    "# http://x.heshuicun.com/thread-80-1-1.html discuz\n",
    "#抓取目标：1、主题帖：author、title、content、publish_date:格式yyyy-MM-dd\n",
    "# 2、回帖：\n",
    "import requests\n",
    "import re\n",
    "from bs4 import BeautifulSoup\n",
    "url='http://x.heshuicun.com/forum.php?mod=viewthread&tid=80'\n",
    "res=requests.get(url)\n",
    "soup=BeautifulSoup(res.text,'html.parser')\n",
    "title=soup.select('#thread_subject')[0].string#返回的是一个列表\n",
    "content=soup.find_all(\"td\", class_=\"t_f\")\n",
    "author=soup.find_all(\"a\", class_=\"xw1\",href=re.compile(\"uid\"))\n",
    "content[0].text.replace('\\n', '').replace('\\r','')\n",
    "time=soup.find_all(\"em\",id=re.compile(\"authorpost\"))\n",
    "time[0].text.lstrip('发表于:')\n",
    "content[1].text"
   ]
  },
  {
   "cell_type": "code",
   "execution_count": 20,
   "metadata": {
    "collapsed": false
   },
   "outputs": [
    {
     "data": {
      "text/plain": [
       "'从这条新闻中你得到了什么教训？'"
      ]
     },
     "execution_count": 20,
     "metadata": {},
     "output_type": "execute_result"
    }
   ],
   "source": [
    "post={\"content\":content[0].text.replace('\\n', '').replace('\\r',''),\"title\":soup.select('#thread_subject')[0].string,\"publish_date\":time[0].text.lstrip('发表于:')}\n",
    "post['title']"
   ]
  },
  {
   "cell_type": "code",
   "execution_count": 21,
   "metadata": {
    "collapsed": false
   },
   "outputs": [
    {
     "data": {
      "text/plain": [
       "{'content': '<!--google_ad_client = \"ca-pub-4638939369985996\";/* 2(336x280) */google_ad_slot = \"8263922350\";google_ad_width = 336;google_ad_height = 280;//-->从这条新闻中你得到了什么教训？在网上看个新闻，大概内容是：老公买了一只藏獒幼仔，没时间养，一直是老婆在养；一次老公老婆吵架，老公把老婆打了，结果藏獒冲出来果断把老公手咬断了！看完新闻我问老公：“从这条新闻中你得到了什么教训？”本想听他说不能打老婆，没想到这货居然说：“打老婆时要把狗栓好！”',\n",
       " 'publish_date': ' 2012-7-27 07:59:17',\n",
       " 'title': '从这条新闻中你得到了什么教训？'}"
      ]
     },
     "execution_count": 21,
     "metadata": {},
     "output_type": "execute_result"
    }
   ],
   "source": [
    "post"
   ]
  },
  {
   "cell_type": "code",
   "execution_count": 44,
   "metadata": {
    "collapsed": false,
    "scrolled": false
   },
   "outputs": [
    {
     "data": {
      "text/plain": [
       "[{'author': '临风有点冷',\n",
       "  'content': '从这条新闻中你得到了什么教训？在网上看个新闻，大概内容是：老公买了一只藏獒幼仔，没时间养，一直是老婆在养；一次老公老婆吵架，老公把老婆打了，结果藏獒冲出来果断把老公手咬断了！看完新闻我问老公：“从这条新闻中你得到了什么教训？”本想听他说不能打老婆，没想到这货居然说：“打老婆时要把狗栓好！”',\n",
       "  'publish_date': '发表于 2012-7-27 07:59:17'},\n",
       " {'author': '豪杰先锋涛涛',\n",
       "  'content': '的分数高如果认购二哥让他退给我',\n",
       "  'publish_date': '发表于 2016-9-4 09:57:16'},\n",
       " {'author': '13074528821',\n",
       "  'content': '1231231231321321',\n",
       "  'publish_date': '发表于 2016-11-15 11:28:30'},\n",
       " {'author': '笑藏孤独', 'content': '', 'publish_date': '发表于 2016-12-8 19:39:44'},\n",
       " {'author': '逍遥子呵呵',\n",
       "  'content': '~~~~~~~~~~~~~~',\n",
       "  'publish_date': '发表于 2016-12-28 16:25:43'},\n",
       " {'author': '675963432',\n",
       "  'content': '啊实打实as分噶都是gas豆腐干',\n",
       "  'publish_date': '发表于 2017-1-11 20:41:34'},\n",
       " {'author': '路人佼佼者',\n",
       "  'content': '说什么了？神神秘秘的',\n",
       "  'publish_date': '发表于 2017-2-14 17:33:11'},\n",
       " {'author': '一川',\n",
       "  'content': '656755rtyghrt',\n",
       "  'publish_date': '发表于 2017-2-22 17:52:00'},\n",
       " {'author': 'linanqichn',\n",
       "  'content': '竟然是题目',\n",
       "  'publish_date': '发表于 2017-3-11 13:52:09'},\n",
       " {'author': '11111',\n",
       "  'content': '11111111111111111',\n",
       "  'publish_date': '发表于 2017-3-12 09:35:07'}]"
      ]
     },
     "execution_count": 44,
     "metadata": {},
     "output_type": "execute_result"
    }
   ],
   "source": [
    "import re\n",
    "dr = re.compile(r'<[^>]+>',re.S)\n",
    "t=iter(time)\n",
    "a=iter(author)\n",
    "c=iter(content)\n",
    "#next(a).text\n",
    "result=[]\n",
    "while True:\n",
    "    try:\n",
    "        author_name=next(a).text\n",
    "        post_time=next(t).text\n",
    "        ctemp=next(c).text.replace('\\n', '').replace('\\r','')\n",
    "        \n",
    "        content = dr.sub('',ctemp)\n",
    "        dic={\"author\":author_name,\"publish_date\":post_time,\"content\":content}\n",
    "    except StopIteration:\n",
    "        break\n",
    "    result.append(dic)\n",
    "result"
   ]
  },
  {
   "cell_type": "code",
   "execution_count": 3,
   "metadata": {
    "collapsed": false
   },
   "outputs": [
    {
     "data": {
      "text/plain": [
       "[1, 2, 'ds', {'age': 5, 'name': 'yanqiang'}]"
      ]
     },
     "execution_count": 3,
     "metadata": {},
     "output_type": "execute_result"
    }
   ],
   "source": [
    "L=[1,2,'ds']\n",
    "L.append({'name':'yanqiang','age':5})\n",
    "L"
   ]
  },
  {
   "cell_type": "code",
   "execution_count": 1,
   "metadata": {
    "collapsed": false
   },
   "outputs": [
    {
     "name": "stdout",
     "output_type": "stream",
     "text": [
      "{'post': {'author': '一个从', 'content': '01_NKO8156.jpg (157.17 KB, 下载次数: 0)下载附件\\xa0保存到相册2017-4-6 21:21 上传', 'title': '大美元阳。多依树梯田（38）', 'publish_date': ' 2017-4-6 21:21'}, 'replys': [{'author': '朱才贵', 'content': '02_NKO8075.jpg (296.47 KB, 下载次数: 0)下载附件\\xa0保存到相册2017-4-6 21:22 上传', 'title': '大美元阳。多依树梯田（38）', 'publish_date': '发表于 2017-4-6 21:22'}, {'author': '一个从', 'content': '03_NKO8231.jpg (184.56 KB, 下载次数: 0)下载附件\\xa0保存到相册2017-4-6 21:22 上传', 'title': '大美元阳。多依树梯田（38）', 'publish_date': '发表于 2017-4-6 21:22'}, {'author': '一个从', 'content': '04_NKO8182.jpg (204.87 KB, 下载次数: 0)下载附件\\xa0保存到相册2017-4-6 21:22 上传', 'title': '大美元阳。多依树梯田（38）', 'publish_date': '发表于 2017-4-6 21:22'}, {'author': '一个从', 'content': '05_NKO8265.jpg (185.75 KB, 下载次数: 0)下载附件\\xa0保存到相册2017-4-6 21:22 上传', 'title': '大美元阳。多依树梯田（38）', 'publish_date': '发表于 2017-4-6 21:22'}, {'author': '一个从', 'content': '06_NKO8095.jpg (246.07 KB, 下载次数: 0)下载附件\\xa0保存到相册2017-4-6 21:22 上传', 'title': '大美元阳。多依树梯田（38）', 'publish_date': '发表于 2017-4-6 21:22'}, {'author': '一个从', 'content': '07_NKO8724.jpg (273.02 KB, 下载次数: 0)下载附件\\xa0保存到相册2017-4-6 21:23 上传', 'title': '大美元阳。多依树梯田（38）', 'publish_date': '发表于 2017-4-6 21:23'}, {'author': '一个从', 'content': '08_NKO8768.jpg (275.31 KB, 下载次数: 0)下载附件\\xa0保存到相册2017-4-6 21:23 上传', 'title': '大美元阳。多依树梯田（38）', 'publish_date': '发表于 2017-4-6 21:23'}, {'author': '一个从', 'content': '09_NKO8286.jpg (238.08 KB, 下载次数: 0)下载附件\\xa0保存到相册2017-4-6 21:23 上传', 'title': '大美元阳。多依树梯田（38）', 'publish_date': '发表于 2017-4-6 21:23'}, {'author': '一个从', 'content': '10_NKO8138.jpg (144.56 KB, 下载次数: 0)下载附件\\xa0保存到相册2017-4-6 21:23 上传', 'title': '大美元阳。多依树梯田（38）', 'publish_date': '发表于 2017-4-6 21:23'}, {'author': '一个从', 'content': '精彩拍摄，欣赏学习老师佳作！', 'title': '大美元阳。多依树梯田（38）', 'publish_date': '发表于 2017-4-6 21:27'}, {'author': '舞之韵', 'content': '欣赏学习老师佳作', 'title': '大美元阳。多依树梯田（38）', 'publish_date': '发表于 2017-4-6 21:38'}, {'author': '水云涧', 'content': '欣赏学习老师佳作', 'title': '大美元阳。多依树梯田（38）', 'publish_date': '发表于 2017-4-6 22:01'}, {'author': '摄影小三', 'content': '精彩拍摄，欣赏学习老师佳作！', 'title': '大美元阳。多依树梯田（38）', 'publish_date': '发表于 2017-4-6 22:09'}, {'author': '清泉水', 'content': '欣赏学习支持老师佳作，谢谢分享，顺祝行摄丰收！', 'title': '大美元阳。多依树梯田（38）', 'publish_date': '发表于 2017-4-6 22:22'}]}\n"
     ]
    }
   ],
   "source": [
    "#搞笑村论坛提取最后整理\n",
    "import re\n",
    "import requests\n",
    "from bs4 import BeautifulSoup\n",
    "import json\n",
    "\n",
    "#url='http://x.heshuicun.com/forum.php?mod=viewthread&tid=80'\n",
    "url='http://36.01ny.cn/thread-4728651-1-1.html'\n",
    "res=requests.get(url)\n",
    "soup=BeautifulSoup(res.text,'html.parser')\n",
    "\n",
    "#新闻标题\n",
    "title=soup.select('#thread_subject')[0].string#返回的是一个列表\n",
    "\n",
    "#发帖内容集合\n",
    "content=soup.find_all(\"td\", class_=\"t_f\")\n",
    "\n",
    "#发帖用户集合\n",
    "author=soup.find_all(\"a\", class_=\"xw1\",href=re.compile(\"uid\"))\n",
    "\n",
    "#发帖时间集合\n",
    "time=soup.find_all(\"em\",id=re.compile(\"authorpost\"))\n",
    "\n",
    "# result存储总结果 post_info存储主贴信息 replys_info\n",
    "result={}\n",
    "post_info={}\n",
    "replys_info=[]\n",
    "\n",
    "\n",
    "#设置迭代器\n",
    "time_iter=iter(time)\n",
    "author_iter=iter(author)\n",
    "content_iter=iter(content)\n",
    "\n",
    "dr = re.compile(r'<[^>]+>',re.S)\n",
    "ctemp = next(content_iter).text.replace('\\n', '').replace('\\r', '')\n",
    "post_content = dr.sub('', ctemp)\n",
    "#添加主题帖信息\n",
    "post_info={\n",
    "    \"author\":next(author_iter).text,\n",
    "    \"content\":post_content,\n",
    "    \"title\":soup.select('#thread_subject')[0].string,\n",
    "    \"publish_date\":next(time_iter).text.lstrip(\"发表于：\")\n",
    "    }\n",
    "\n",
    "#添加回复列表信息\n",
    "while True:\n",
    "    try:\n",
    "        author_name = next(author_iter).text\n",
    "        post_time = next(time_iter).text\n",
    "        ctemp = next(content_iter).text.replace('\\n', '').replace('\\r', '')\n",
    "        content = dr.sub('', ctemp)\n",
    "        dic = {\"author\": author_name, \"content\": content,\"title\":soup.select('#thread_subject')[0].string,\"publish_date\": post_time}\n",
    "    except StopIteration:\n",
    "        break\n",
    "    replys_info.append(dic)\n",
    "\n",
    "result['post']=post_info\n",
    "result['replys']=replys_info\n",
    "# json_str = json.dumps(result,ensure_ascii=False)  \n",
    "# print(json_str)\n",
    "print(result)"
   ]
  }
 ],
 "metadata": {
  "kernelspec": {
   "display_name": "Python 3",
   "language": "python",
   "name": "python3"
  },
  "language_info": {
   "codemirror_mode": {
    "name": "ipython",
    "version": 3
   },
   "file_extension": ".py",
   "mimetype": "text/x-python",
   "name": "python",
   "nbconvert_exporter": "python",
   "pygments_lexer": "ipython3",
   "version": "3.6.0"
  }
 },
 "nbformat": 4,
 "nbformat_minor": 2
}
