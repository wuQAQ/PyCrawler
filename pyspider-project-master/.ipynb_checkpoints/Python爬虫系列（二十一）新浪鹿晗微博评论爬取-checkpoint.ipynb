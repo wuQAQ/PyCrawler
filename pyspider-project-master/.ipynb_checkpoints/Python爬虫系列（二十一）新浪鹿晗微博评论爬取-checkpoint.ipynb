{
 "cells": [
  {
   "cell_type": "code",
   "execution_count": 1,
   "metadata": {
    "collapsed": true
   },
   "outputs": [],
   "source": [
    "import requests\n",
    "import pandas\n",
    "import json\n",
    "import time"
   ]
  },
  {
   "cell_type": "code",
   "execution_count": 2,
   "metadata": {
    "collapsed": true
   },
   "outputs": [],
   "source": [
    "headers={'User-Agent':'Mozilla/5.0 (Linux; Android 6.0; Nexus 5 Build/MRA58N) AppleWebKit/537.36 (KHTML, like Gecko) Chrome/61.0.3163.100 Mobile Safari/537.36'}\n",
    "Cookie={'Cookie':'ALF=1512030118; SCF=Ats0EBICxu5O_X3fkZ5gDDYbHS3y53K06stUi76IbqrQu4cEfwwoIRS3FLC6s7V9hixlYjjP_uqRFoXQwztEgVs.; SUB=_2A250_EL3DeRhGeVG7lMW9izNzTyIHXVUH26_rDV6PUNbktANLVbZkW1p8u6zKozGUCglpMYk8zTUvw5X7g..; SUBP=0033WrSXqPxfM725Ws9jqgMF55529P9D9W5NV1YhJSOSSHuQV_.aEsQz5JpX5KMhUgL.FoeRSK2NSozpSo52dJLoI7YLxKnL1hMLBoxGMJHyUh5t; SUHB=0U1J_lz7MAzRUN; SSOLoginState=1509438119; _T_WM=6e4d4d9b8b1055895254a10316096096; H5_INDEX=2; H5_INDEX_TITLE=%E8%87%B4Great0; H5:PWA:UID=1; M_WEIBOCN_PARAMS=featurecode%3D20000320%26oid%3D4160547165300149%26luicode%3D10000011%26lfid%3D1076031537790411'}"
   ]
  },
  {
   "cell_type": "code",
   "execution_count": 3,
   "metadata": {
    "collapsed": true
   },
   "outputs": [],
   "source": [
    "url='https://m.weibo.cn/api/comments/show?id=4160547165300149&page=2'"
   ]
  },
  {
   "cell_type": "code",
   "execution_count": 4,
   "metadata": {
    "collapsed": true
   },
   "outputs": [],
   "source": [
    "html=requests.get(url,Cookie)\n",
    "data=html.json()['data']"
   ]
  },
  {
   "cell_type": "code",
   "execution_count": 5,
   "metadata": {},
   "outputs": [
    {
     "data": {
      "text/plain": [
       "{'created_at': '5分钟前',\n",
       " 'id': 4169031281654071,\n",
       " 'like_counts': 0,\n",
       " 'liked': False,\n",
       " 'source': 'iPhone 6 Plus',\n",
       " 'text': '鹿晗 你这样子 我们很伤心',\n",
       " 'user': {'id': 5374166389,\n",
       "  'mbtype': 0,\n",
       "  'profile_image_url': 'https://tva3.sinaimg.cn/crop.0.0.664.664.180/005RHsb3jw8f32e64y3ftj30ig0igt9o.jpg',\n",
       "  'profile_url': 'https://m.weibo.cn/u/5374166389?uid=5374166389',\n",
       "  'remark': '',\n",
       "  'screen_name': 'O_SHHHHHHH-94',\n",
       "  'verified': False,\n",
       "  'verified_type': -1}}"
      ]
     },
     "execution_count": 5,
     "metadata": {},
     "output_type": "execute_result"
    }
   ],
   "source": [
    "data[0]"
   ]
  },
  {
   "cell_type": "code",
   "execution_count": 6,
   "metadata": {},
   "outputs": [
    {
     "data": {
      "text/plain": [
       "4169031281654071"
      ]
     },
     "execution_count": 6,
     "metadata": {},
     "output_type": "execute_result"
    }
   ],
   "source": [
    "#用户id\n",
    "data[0]['id']"
   ]
  },
  {
   "cell_type": "code",
   "execution_count": 7,
   "metadata": {},
   "outputs": [
    {
     "data": {
      "text/plain": [
       "'鹿晗 你这样子 我们很伤心'"
      ]
     },
     "execution_count": 7,
     "metadata": {},
     "output_type": "execute_result"
    }
   ],
   "source": [
    "#评论内容\n",
    "data[0]['text']"
   ]
  },
  {
   "cell_type": "code",
   "execution_count": 8,
   "metadata": {},
   "outputs": [
    {
     "data": {
      "text/plain": [
       "'O_SHHHHHHH-94'"
      ]
     },
     "execution_count": 8,
     "metadata": {},
     "output_type": "execute_result"
    }
   ],
   "source": [
    "#用户名\n",
    "data[0]['user']['screen_name']"
   ]
  },
  {
   "cell_type": "code",
   "execution_count": 9,
   "metadata": {},
   "outputs": [
    {
     "data": {
      "text/plain": [
       "200"
      ]
     },
     "execution_count": 9,
     "metadata": {},
     "output_type": "execute_result"
    }
   ],
   "source": [
    "html.status_code"
   ]
  },
  {
   "cell_type": "code",
   "execution_count": null,
   "metadata": {},
   "outputs": [
    {
     "name": "stdout",
     "output_type": "stream",
     "text": [
      "第1页爬取完毕\n",
      "第2页爬取完毕\n"
     ]
    }
   ],
   "source": [
    "for i in range(5):\n",
    "        i+=1\n",
    "        next_url='https://m.weibo.cn/api/comments/show?id=4160547165300149&page={}'.format(i)\n",
    "        try:\n",
    "            for j in range(len(html.json()['data'])):\n",
    "                data1=[(html.json()['data'][j]['id'],\n",
    "                        html.json()['data'][j]['user']['screen_name'],\n",
    "                        html.json()['data'][j]['created_at'],\n",
    "                        html.json()['data'][j]['source'],\n",
    "                        html.json()['data'][j]['user']['id'],\n",
    "                        html.json()['data'][j]['user']['profile_url'],\n",
    "                        html.json()['data'][j]['user']['profile_image_url'],\n",
    "                        html.json()['data'][j]['text']\n",
    "                        )]\n",
    "                data2=pandas.DataFrame(data1)\n",
    "                data2.to_csv('data/weibo.csv',header=False,index=False,mode='a+')\n",
    "        except:\n",
    "            None\n",
    "        time.sleep(2)\n",
    "        html=requests.get(url,Cookie)\n",
    "        print(\"第{}页爬取完毕\".format(i))"
   ]
  }
 ],
 "metadata": {
  "kernelspec": {
   "display_name": "Python 3",
   "language": "python",
   "name": "python3"
  },
  "language_info": {
   "codemirror_mode": {
    "name": "ipython",
    "version": 3
   },
   "file_extension": ".py",
   "mimetype": "text/x-python",
   "name": "python",
   "nbconvert_exporter": "python",
   "pygments_lexer": "ipython3",
   "version": "3.6.1"
  }
 },
 "nbformat": 4,
 "nbformat_minor": 2
}
