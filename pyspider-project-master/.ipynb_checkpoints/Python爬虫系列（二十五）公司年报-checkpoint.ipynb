{
 "cells": [
  {
   "cell_type": "code",
   "execution_count": 6,
   "metadata": {
    "collapsed": true,
    "scrolled": true
   },
   "outputs": [],
   "source": [
    "import urllib.request\n",
    "import requests\n",
    "import re\n",
    "import os\n",
    "import csv\n",
    "from lxml import etree\n",
    "#加载股票代码和股票名称\n",
    "def get_company(inputpath):\n",
    "    rows=[]\n",
    "    stocks=[]\n",
    "    names=[]\n",
    "    with open(inputpath,'r',encoding='utf-8_sig') as file:\n",
    "        csv_reader=csv.reader(file,dialect='excel')\n",
    "        for row in csv_reader:\n",
    "            rows.append(row)\n",
    "    for com in rows:\n",
    "        if '.SH' in com[0]:\n",
    "            stocks.append(com[0].rstrip('.SH'))\n",
    "            names.append(com[1])\n",
    "    return stocks,names\n",
    "stock,name=get_company('data/500company_code.csv')\n",
    "# print(stock)"
   ]
  },
  {
   "cell_type": "code",
   "execution_count": null,
   "metadata": {},
   "outputs": [
    {
     "name": "stdout",
     "output_type": "stream",
     "text": [
      "年报列表页面编码错误;http://vip.stock.finance.sina.com.cn/corp/go.php/vCB_Bulletin/stockid/600028/page_type/ndbg.phtml\n",
      "年报列表页面编码错误;http://vip.stock.finance.sina.com.cn/corp/go.php/vCB_Bulletin/stockid/601857/page_type/ndbg.phtml\n",
      "年报列表页面编码错误;http://vip.stock.finance.sina.com.cn/corp/go.php/vCB_Bulletin/stockid/601668/page_type/ndbg.phtml\n",
      "年报列表页面编码错误;http://vip.stock.finance.sina.com.cn/corp/go.php/vCB_Bulletin/stockid/600104/page_type/ndbg.phtml\n",
      "年报列表页面编码错误;http://vip.stock.finance.sina.com.cn/corp/go.php/vCB_Bulletin/stockid/601318/page_type/ndbg.phtml\n",
      "年报列表页面编码错误;http://vip.stock.finance.sina.com.cn/corp/go.php/vCB_Bulletin/stockid/601398/page_type/ndbg.phtml\n",
      "年报列表页面编码错误;http://vip.stock.finance.sina.com.cn/corp/go.php/vCB_Bulletin/stockid/601390/page_type/ndbg.phtml\n",
      "年报列表页面编码错误;http://vip.stock.finance.sina.com.cn/corp/go.php/vCB_Bulletin/stockid/601186/page_type/ndbg.phtml\n",
      "年报列表页面编码错误;http://vip.stock.finance.sina.com.cn/corp/go.php/vCB_Bulletin/stockid/601939/page_type/ndbg.phtml\n",
      "年报列表页面编码错误;http://vip.stock.finance.sina.com.cn/corp/go.php/vCB_Bulletin/stockid/601628/page_type/ndbg.phtml\n",
      "年报列表页面编码错误;http://vip.stock.finance.sina.com.cn/corp/go.php/vCB_Bulletin/stockid/601288/page_type/ndbg.phtml\n",
      "年报列表页面编码错误;http://vip.stock.finance.sina.com.cn/corp/go.php/vCB_Bulletin/stockid/601988/page_type/ndbg.phtml\n",
      "年报列表页面编码错误;http://vip.stock.finance.sina.com.cn/corp/go.php/vCB_Bulletin/stockid/601800/page_type/ndbg.phtml\n",
      "年报列表页面编码错误;http://vip.stock.finance.sina.com.cn/corp/go.php/vCB_Bulletin/stockid/600050/page_type/ndbg.phtml\n",
      "年报列表页面编码错误;http://vip.stock.finance.sina.com.cn/corp/go.php/vCB_Bulletin/stockid/601601/page_type/ndbg.phtml\n",
      "年报列表页面编码错误;http://vip.stock.finance.sina.com.cn/corp/go.php/vCB_Bulletin/stockid/600606/page_type/ndbg.phtml\n"
     ]
    }
   ],
   "source": [
    "for each,name in zip(stock,name):\n",
    "    url='http://vip.stock.finance.sina.com.cn/corp/go.php/vCB_Bulletin/stockid/'+each+'/page_type/ndbg.phtml'\n",
    "    req = urllib.request.Request(url)\n",
    "    req.add_header('User-Agent','Mozilla/5.0 (Windows NT 6.2; rv:16.0) Gecko/20100101 Firefox/16.0')\n",
    "    page = urllib.request.urlopen(req)\n",
    "    try:\n",
    "        html = page.read().decode('gbk')\n",
    "        target = r'&id=[_0-9_]{6}'\n",
    "        target_list = re.findall(target,html)\n",
    "        os.mkdir('G://pdf/'+name)\n",
    "        sid = each\n",
    "        #print(target_list)\n",
    "        for each in target_list:\n",
    "            #print(a)\n",
    "            #print(each)\n",
    "            target_url='http://vip.stock.finance.sina.com.cn/corp/view/vCB_AllBulletinDetail.php?stockid='+sid+each\n",
    "            #print(target_url)\n",
    "            treq = urllib.request.Request(target_url)\n",
    "            treq.add_header('User-Agent','Mozilla/5.0 (Windows NT 6.2; rv:16.0) Gecko/20100101 Firefox/16.0')\n",
    "            tpage = urllib.request.urlopen(treq)\n",
    "            try:\n",
    "                thtml = tpage.read().decode('gbk')\n",
    "                #print(thtml)\n",
    "                file_url = re.search('http://file.finance.sina.com.cn/211.154.219.97:9494/.*?PDF',thtml)\n",
    "                try:\n",
    "                    #print(file_url.group(0))\n",
    "                    local = 'G://pdf/'+name+'/'+file_url.group(0).split(\"/\")[-1]+'.pdf'\n",
    "                    #调试用作文件占位\n",
    "                    #open(local, 'wb').write(b'success')\n",
    "                    #print(local)\n",
    "                    urllib.request.urlretrieve(file_url.group(0),local,None)\n",
    "                except:\n",
    "                    print('PDF失效;'+target_url)\n",
    "            except:\n",
    "                print('年报下载页面编码错误;'+target_url)\n",
    "    except:\n",
    "        print('年报列表页面编码错误;'+url)"
   ]
  },
  {
   "cell_type": "code",
   "execution_count": 7,
   "metadata": {},
   "outputs": [
    {
     "name": "stdout",
     "output_type": "stream",
     "text": [
      "['&id=314660', '&id=229104', '&id=166445', '&id=132568', '&id=106658', '&id=861546', '&id=684052', '&id=527209', '&id=407285', '&id=308662']\n"
     ]
    }
   ],
   "source": [
    "header={'User-Agent':'Mozilla/5.0 (Windows NT 10.0; Win64; x64) AppleWebKit/537.36 (KHTML, like Gecko) Chrome/62.0.3202.89 Safari/537.36'}\n",
    "url='http://vip.stock.finance.sina.com.cn/corp/go.php/vCB_Bulletin/stockid/{}/page_type/ndbg.phtml'.format('600028')\n",
    "res=requests.get(url,headers=header)\n",
    "res.encoding='gbk'\n",
    "# print(res.text)\n",
    "html=res.text\n",
    "target = r'&id=[_0-9_]{6}'\n",
    "target_list = re.findall(target,html)\n",
    "print(target_list)"
   ]
  },
  {
   "cell_type": "code",
   "execution_count": 13,
   "metadata": {},
   "outputs": [
    {
     "name": "stdout",
     "output_type": "stream",
     "text": [
      "&id=314660\n",
      "http://file.finance.sina.com.cn/211.154.219.97:9494/MRGG/CNSESH_STOCK/2008/2008-4/2008-04-19/314660.PDF\n",
      "&id=229104\n",
      "http://file.finance.sina.com.cn/211.154.219.97:9494/MRGG/CNSESH_STOCK/2008/2008-4/2008-04-19/314660.PDF\n",
      "&id=166445\n",
      "http://file.finance.sina.com.cn/211.154.219.97:9494/MRGG/CNSESH_STOCK/2008/2008-4/2008-04-19/314660.PDF\n",
      "&id=132568\n",
      "http://file.finance.sina.com.cn/211.154.219.97:9494/MRGG/CNSESH_STOCK/2008/2008-4/2008-04-19/314660.PDF\n",
      "&id=106658\n",
      "http://file.finance.sina.com.cn/211.154.219.97:9494/MRGG/CNSESH_STOCK/2008/2008-4/2008-04-19/314660.PDF\n",
      "&id=861546\n",
      "http://file.finance.sina.com.cn/211.154.219.97:9494/MRGG/CNSESH_STOCK/2008/2008-4/2008-04-19/314660.PDF\n",
      "&id=684052\n",
      "http://file.finance.sina.com.cn/211.154.219.97:9494/MRGG/CNSESH_STOCK/2008/2008-4/2008-04-19/314660.PDF\n",
      "&id=527209\n",
      "http://file.finance.sina.com.cn/211.154.219.97:9494/MRGG/CNSESH_STOCK/2008/2008-4/2008-04-19/314660.PDF\n",
      "&id=407285\n",
      "http://file.finance.sina.com.cn/211.154.219.97:9494/MRGG/CNSESH_STOCK/2008/2008-4/2008-04-19/314660.PDF\n",
      "&id=308662\n",
      "http://file.finance.sina.com.cn/211.154.219.97:9494/MRGG/CNSESH_STOCK/2008/2008-4/2008-04-19/314660.PDF\n"
     ]
    }
   ],
   "source": [
    "# url='http://vip.stock.finance.sina.com.cn/corp/view/vCB_AllBulletinDetail.php?stockid='+'600028'+'&id=314660'\n",
    "# res=requests.get(url)\n",
    "# res.encoding='gbk'\n",
    "# html=res.text\n",
    "# href='http://file.finance.sina.com.cn/211.154.219.97:9494/MRGG/CNSESH_STOCK/2008/2008-4/2008-04-19/314660.PDF'\n",
    "# file_url = re.search('http://file.finance.sina.com.cn/211.154.219.97:9494/.*?PDF',html)\n",
    "# print(file_url.group(0))\n",
    "for id in target_list:\n",
    "    print(id)\n",
    "    target_url='http://vip.stock.finance.sina.com.cn/corp/view/vCB_AllBulletinDetail.php?stockid='+'600028'+id\n",
    "#     print(target_url)\n",
    "    try:\n",
    "        tar_res=requests.get(target_url,headers=header)\n",
    "        tar_res.encoding='gbk'\n",
    "        tar_html=res.text\n",
    "        file_url = re.search('http://file.finance.sina.com.cn/211.154.219.97:9494/.*?PDF',tar_html)\n",
    "        print(file_url.group(0))\n",
    "    except:\n",
    "        print(\"该页面的pdf链接为空\"+target_url)\n",
    "#     try:\n",
    "#         local = 'G://pdf/'+'中国石化'+'/'+file_url.group(0).split(\"/\")[-1]+'.pdf'\n",
    "#         urllib.request.urlretrieve(file_url.group(0),local,None)\n",
    "#     except:\n",
    "#         print('PDF失效;'+target_url)"
   ]
  },
  {
   "cell_type": "code",
   "execution_count": null,
   "metadata": {
    "collapsed": true
   },
   "outputs": [],
   "source": []
  }
 ],
 "metadata": {
  "kernelspec": {
   "display_name": "Python 3",
   "language": "python",
   "name": "python3"
  },
  "language_info": {
   "codemirror_mode": {
    "name": "ipython",
    "version": 3
   },
   "file_extension": ".py",
   "mimetype": "text/x-python",
   "name": "python",
   "nbconvert_exporter": "python",
   "pygments_lexer": "ipython3",
   "version": "3.6.1"
  }
 },
 "nbformat": 4,
 "nbformat_minor": 2
}
