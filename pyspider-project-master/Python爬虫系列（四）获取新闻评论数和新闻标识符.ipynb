{
 "cells": [
  {
   "cell_type": "code",
   "execution_count": 1,
   "metadata": {
    "collapsed": false
   },
   "outputs": [
    {
     "name": "stdout",
     "output_type": "stream",
     "text": [
      "<class 'requests.models.Response'>\n"
     ]
    }
   ],
   "source": [
    "import requests\n",
    "from bs4 import BeautifulSoup\n",
    "comments=requests.get('http://comment5.news.sina.com.cn/page/info?version=1&format=js&\\\n",
    "channel=gn&newsid=comos-fycwymx3892472&\\\n",
    "group=&compress=0&ie=utf-8&oe=utf-8&page=1&page_size=20&jsvar=loader_1491395188566_53913700')\n",
    "print(type(comments))\n",
    "import json\n",
    "jd=json.loads(comments.text.strip('var loader_1491395188566_53913700='))"
   ]
  },
  {
   "cell_type": "code",
   "execution_count": 18,
   "metadata": {
    "collapsed": false
   },
   "outputs": [
    {
     "data": {
      "text/plain": [
       "10"
      ]
     },
     "execution_count": 18,
     "metadata": {},
     "output_type": "execute_result"
    }
   ],
   "source": [
    "#获取新闻评论数\n",
    "jd['result']['count']['total']"
   ]
  },
  {
   "cell_type": "code",
   "execution_count": 6,
   "metadata": {
    "collapsed": false
   },
   "outputs": [
    {
     "data": {
      "text/plain": [
       "'fycwymx3892472'"
      ]
     },
     "execution_count": 6,
     "metadata": {},
     "output_type": "execute_result"
    }
   ],
   "source": [
    "#获取新闻id\n",
    "newsurl='http://news.sina.com.cn/c/nd/2017-04-05/doc-ifycwymx3892472.shtml'\n",
    "newsid=newsurl.split('/')[-1].lstrip('doc-i').rstrip('.shtml')\n",
    "newsid"
   ]
  },
  {
   "cell_type": "code",
   "execution_count": 11,
   "metadata": {
    "collapsed": false
   },
   "outputs": [
    {
     "name": "stdout",
     "output_type": "stream",
     "text": [
      "<_sre.SRE_Match object; span=(40, 65), match='doc-ifycwymx3892472.shtml'>\n"
     ]
    },
    {
     "data": {
      "text/plain": [
       "'fycwymx3892472'"
      ]
     },
     "execution_count": 11,
     "metadata": {},
     "output_type": "execute_result"
    }
   ],
   "source": [
    "#方法二使用正则表达式实现获取新闻id\n",
    "import re\n",
    "m=re.search('doc-i(.+).shtml',newsurl)\n",
    "print(m)\n",
    "newsid=m.group(1)\n",
    "newsid"
   ]
  },
  {
   "cell_type": "code",
   "execution_count": 38,
   "metadata": {
    "collapsed": false
   },
   "outputs": [
    {
     "data": {
      "text/plain": [
       "'http://comment5.news.sina.com.cn/page/info?version=1&format=js&channel=gn&newsid=comos-fycwymx3892472&group=&compress=0&ie=utf-8&oe=utf-8&page=1&page_size=20&jsvar=loader_1491395188566_53913700'"
      ]
     },
     "execution_count": 38,
     "metadata": {},
     "output_type": "execute_result"
    }
   ],
   "source": [
    "commentURL='http://comment5.news.sina.com.cn/page/info?version=1&format=js&\\\n",
    "channel=gn&newsid=comos-{}&\\\n",
    "group=&compress=0&ie=utf-8&oe=utf-8&page=1&page_size=20&jsvar=loader_1491395188566_53913700'\n",
    "commentURL.format(newsid)"
   ]
  },
  {
   "cell_type": "code",
   "execution_count": 42,
   "metadata": {
    "collapsed": true
   },
   "outputs": [],
   "source": [
    "import re\n",
    "import json\n",
    "import requests\n",
    "def getCommentCounts(newsurl):\n",
    "    m=re.search('doc-i(.+).shtml',newsurl)\n",
    "    newsid=m.group(1)\n",
    "    comments=requests.get(commentURL.format(newsid))\n",
    "    jd=json.loads(comments.text.strip('var loader_1491395188566_53913700='))\n",
    "    return jd['result']['count']['total']"
   ]
  },
  {
   "cell_type": "code",
   "execution_count": 43,
   "metadata": {
    "collapsed": false
   },
   "outputs": [
    {
     "data": {
      "text/plain": [
       "13"
      ]
     },
     "execution_count": 43,
     "metadata": {},
     "output_type": "execute_result"
    }
   ],
   "source": [
    "news='http://news.sina.com.cn/c/nd/2017-04-05/doc-ifycwymx3892472.shtml'\n",
    "getCommentCounts(news)"
   ]
  }
 ],
 "metadata": {
  "kernelspec": {
   "display_name": "Python 3",
   "language": "python",
   "name": "python3"
  },
  "language_info": {
   "codemirror_mode": {
    "name": "ipython",
    "version": 3
   },
   "file_extension": ".py",
   "mimetype": "text/x-python",
   "name": "python",
   "nbconvert_exporter": "python",
   "pygments_lexer": "ipython3",
   "version": "3.6.0"
  }
 },
 "nbformat": 4,
 "nbformat_minor": 2
}
