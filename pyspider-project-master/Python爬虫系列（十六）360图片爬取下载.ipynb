{
 "cells": [
  {
   "cell_type": "code",
   "execution_count": 1,
   "metadata": {
    "collapsed": false
   },
   "outputs": [
    {
     "name": "stdout",
     "output_type": "stream",
     "text": [
      "下拉第1次\n",
      "http://p3.so.qhmsg.com/t010fa030ec139da0e8.jpg\n",
      "http://p1.so.qhmsg.com/t01a51c5f476436f176.jpg\n",
      "http://p3.so.qhmsg.com/t01c5b15875736a7298.jpg\n",
      "http://p2.so.qhimgs1.com/t019a65b31e1679fe52.jpg\n",
      "http://p1.so.qhimgs1.com/t017fc6160970edc2cd.jpg\n",
      "http://p3.so.qhimgs1.com/t01215a123eba7975b3.jpg\n",
      "http://p4.so.qhmsg.com/t0100ebcf7dc12284a9.jpg\n",
      "http://p2.so.qhimgs1.com/t01f39a7fe8df3f58f2.jpg\n",
      "http://p3.so.qhmsg.com/t01b87f28c0e231f468.jpg\n",
      "http://p0.so.qhmsg.com/t01cc7a102542dd2eef.jpg\n",
      "http://p0.so.qhimgs1.com/t01ee3a761ef0698a40.jpg\n",
      "http://p0.so.qhimgs1.com/t01f9e114ee48887630.jpg\n",
      "http://p2.so.qhimgs1.com/t01a81a62ccfe6921fe.jpg\n",
      "http://p4.so.qhmsg.com/t0136747f84e79e0ac9.jpg\n",
      "http://p3.so.qhimgs1.com/t01ffa9e2310c218f73.jpg\n",
      "http://p4.so.qhimgs1.com/t01ac94d9ae0836217a.jpg\n",
      "http://p2.so.qhmsg.com/t0102eeb964fa757467.jpg\n",
      "http://p0.so.qhimgs1.com/t01ccbde86a0bd87aec.jpg\n",
      "http://p3.so.qhimgs1.com/t01f4141dc9e466ada3.jpg\n",
      "http://p3.so.qhmsg.com/t01f8d5a580ae814ef8.jpg\n",
      "http://p2.so.qhimgs1.com/t013f16b64dd7fda162.jpg\n",
      "http://p4.so.qhimgs1.com/t0101da36801886d39a.jpg\n",
      "http://p4.so.qhimgs1.com/t012959206b077c2834.jpg\n",
      "http://p0.so.qhimgs1.com/t01ac9283f4ba213c3c.jpg\n",
      "http://p0.so.qhimgs1.com/t019cb3b65d345112fc.jpg\n",
      "http://p2.so.qhimgs1.com/t01906c2ac08d1f4212.jpg\n",
      "http://p2.so.qhimgs1.com/t0187a32d16ae0a10ce.jpg\n",
      "http://p5.so.qhimgs1.com/t019a0d0bf4a227076b.jpg\n",
      "http://p5.so.qhimgs1.com/t0161c1b49ca91e3cdb.jpg\n",
      "http://p0.so.qhmsg.com/t01238bc415059cb8cf.jpg\n",
      "下载图片结束\n"
     ]
    }
   ],
   "source": [
    "#爬取360图片\n",
    "#分析好网站之后，发现规律，每次下拉出现30张图片\n",
    "import requests\n",
    "import urllib.request\n",
    "\n",
    "class Pic360():\n",
    "    def __init__(self):\n",
    "        self.url=\"http://image.so.com/zj?ch=beauty&sn={}&listtype=new&temp=1\"\n",
    "        self.headers={\"User-Agent\":\"Mozilla/5.0 (Windows NT 10.0; WOW64) AppleWebKit/537.36 (KHTML, like Gecko) Chrome/56.0.2924.87 Safari/537.36\"}\n",
    "        self.img_urls=[]\n",
    "        self.offset=30\n",
    "    def get_list(self):\n",
    "        try:\n",
    "            #爬取十页（相当于下拉十次）\n",
    "            for i in range(2):\n",
    "                print('下拉第'+str(i+1)+'次')\n",
    "                res = requests.get(self.url.format(self.offset))\n",
    "                data = res.json()\n",
    "                #print(data['list'])\n",
    "                items = data['list']\n",
    "                for item in items:\n",
    "                    print(item['qhimg_url'])\n",
    "                    self.img_urls.append(item['qhimg_url'])\n",
    "                self.offset+=30\n",
    "            return self.img_urls\n",
    "        except Exception as e:\n",
    "            print(e,\"获取图片urls失败\")\n",
    "    def download_img(self,img_srcs):\n",
    "        for src in img_srcs:\n",
    "            #切片获取qhimg_url里的图片名字\n",
    "            img_name=src.split('/')[-1]\n",
    "            file_path=\"G://360pic/\"\n",
    "            #下载图片，是不是很简单，大家可以了解下这个函数\n",
    "            urllib.request.urlretrieve(src, filename=file_path+img_name)\n",
    "        print(\"下载图片结束\")\n",
    "\n",
    "xizai=Pic360()\n",
    "img_srcs=xizai.get_list()\n",
    "xizai.download_img(img_srcs=img_srcs)"
   ]
  },
  {
   "cell_type": "code",
   "execution_count": 1,
   "metadata": {
    "collapsed": false
   },
   "outputs": [
    {
     "ename": "CalledProcessError",
     "evalue": "Command '['java', '-jar', 'G:\\\\Anaconda3\\\\lib\\\\site-packages\\\\tabula\\\\tabula-0.9.2-jar-with-dependencies.jar', '--pages', '1', '--guess', 'data.pdf']' returned non-zero exit status 1.",
     "output_type": "error",
     "traceback": [
      "\u001b[0;31m---------------------------------------------------------------------------\u001b[0m",
      "\u001b[0;31mCalledProcessError\u001b[0m                        Traceback (most recent call last)",
      "\u001b[0;32m<ipython-input-1-eca392be2984>\u001b[0m in \u001b[0;36m<module>\u001b[0;34m()\u001b[0m\n\u001b[1;32m      2\u001b[0m \u001b[1;32mfrom\u001b[0m \u001b[0mtabula\u001b[0m \u001b[1;32mimport\u001b[0m \u001b[0mread_pdf\u001b[0m\u001b[1;33m\u001b[0m\u001b[0m\n\u001b[1;32m      3\u001b[0m \u001b[1;33m\u001b[0m\u001b[0m\n\u001b[0;32m----> 4\u001b[0;31m \u001b[0mdf\u001b[0m \u001b[1;33m=\u001b[0m \u001b[0mread_pdf\u001b[0m\u001b[1;33m(\u001b[0m\u001b[1;34m\"data.pdf\"\u001b[0m\u001b[1;33m)\u001b[0m\u001b[1;33m\u001b[0m\u001b[0m\n\u001b[0m",
      "\u001b[0;32mG:\\Anaconda3\\lib\\site-packages\\tabula\\wrapper.py\u001b[0m in \u001b[0;36mread_pdf\u001b[0;34m(input_path, output_format, encoding, java_options, pandas_options, multiple_tables, **kwargs)\u001b[0m\n\u001b[1;32m     73\u001b[0m \u001b[1;33m\u001b[0m\u001b[0m\n\u001b[1;32m     74\u001b[0m     \u001b[1;32mtry\u001b[0m\u001b[1;33m:\u001b[0m\u001b[1;33m\u001b[0m\u001b[0m\n\u001b[0;32m---> 75\u001b[0;31m         \u001b[0moutput\u001b[0m \u001b[1;33m=\u001b[0m \u001b[0msubprocess\u001b[0m\u001b[1;33m.\u001b[0m\u001b[0mcheck_output\u001b[0m\u001b[1;33m(\u001b[0m\u001b[0margs\u001b[0m\u001b[1;33m)\u001b[0m\u001b[1;33m\u001b[0m\u001b[0m\n\u001b[0m\u001b[1;32m     76\u001b[0m     \u001b[1;32mfinally\u001b[0m\u001b[1;33m:\u001b[0m\u001b[1;33m\u001b[0m\u001b[0m\n\u001b[1;32m     77\u001b[0m         \u001b[1;32mif\u001b[0m \u001b[0mis_url\u001b[0m\u001b[1;33m:\u001b[0m\u001b[1;33m\u001b[0m\u001b[0m\n",
      "\u001b[0;32mG:\\Anaconda3\\lib\\subprocess.py\u001b[0m in \u001b[0;36mcheck_output\u001b[0;34m(timeout, *popenargs, **kwargs)\u001b[0m\n\u001b[1;32m    334\u001b[0m \u001b[1;33m\u001b[0m\u001b[0m\n\u001b[1;32m    335\u001b[0m     return run(*popenargs, stdout=PIPE, timeout=timeout, check=True,\n\u001b[0;32m--> 336\u001b[0;31m                **kwargs).stdout\n\u001b[0m\u001b[1;32m    337\u001b[0m \u001b[1;33m\u001b[0m\u001b[0m\n\u001b[1;32m    338\u001b[0m \u001b[1;33m\u001b[0m\u001b[0m\n",
      "\u001b[0;32mG:\\Anaconda3\\lib\\subprocess.py\u001b[0m in \u001b[0;36mrun\u001b[0;34m(input, timeout, check, *popenargs, **kwargs)\u001b[0m\n\u001b[1;32m    416\u001b[0m         \u001b[1;32mif\u001b[0m \u001b[0mcheck\u001b[0m \u001b[1;32mand\u001b[0m \u001b[0mretcode\u001b[0m\u001b[1;33m:\u001b[0m\u001b[1;33m\u001b[0m\u001b[0m\n\u001b[1;32m    417\u001b[0m             raise CalledProcessError(retcode, process.args,\n\u001b[0;32m--> 418\u001b[0;31m                                      output=stdout, stderr=stderr)\n\u001b[0m\u001b[1;32m    419\u001b[0m     \u001b[1;32mreturn\u001b[0m \u001b[0mCompletedProcess\u001b[0m\u001b[1;33m(\u001b[0m\u001b[0mprocess\u001b[0m\u001b[1;33m.\u001b[0m\u001b[0margs\u001b[0m\u001b[1;33m,\u001b[0m \u001b[0mretcode\u001b[0m\u001b[1;33m,\u001b[0m \u001b[0mstdout\u001b[0m\u001b[1;33m,\u001b[0m \u001b[0mstderr\u001b[0m\u001b[1;33m)\u001b[0m\u001b[1;33m\u001b[0m\u001b[0m\n\u001b[1;32m    420\u001b[0m \u001b[1;33m\u001b[0m\u001b[0m\n",
      "\u001b[0;31mCalledProcessError\u001b[0m: Command '['java', '-jar', 'G:\\\\Anaconda3\\\\lib\\\\site-packages\\\\tabula\\\\tabula-0.9.2-jar-with-dependencies.jar', '--pages', '1', '--guess', 'data.pdf']' returned non-zero exit status 1."
     ]
    }
   ],
   "source": [
    "\n",
    "from tabula import read_pdf\n",
    "\n",
    "df = read_pdf(\"data.pdf\")"
   ]
  }
 ],
 "metadata": {
  "kernelspec": {
   "display_name": "Python 3",
   "language": "python",
   "name": "python3"
  },
  "language_info": {
   "codemirror_mode": {
    "name": "ipython",
    "version": 3
   },
   "file_extension": ".py",
   "mimetype": "text/x-python",
   "name": "python",
   "nbconvert_exporter": "python",
   "pygments_lexer": "ipython3",
   "version": "3.6.0"
  }
 },
 "nbformat": 4,
 "nbformat_minor": 2
}
