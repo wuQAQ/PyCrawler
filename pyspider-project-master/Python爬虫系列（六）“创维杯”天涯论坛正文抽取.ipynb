{
 "cells": [
  {
   "cell_type": "code",
   "execution_count": 61,
   "metadata": {
    "collapsed": false
   },
   "outputs": [
    {
     "data": {
      "text/plain": [
       "'2017年行情大致走势判断'"
      ]
     },
     "execution_count": 61,
     "metadata": {},
     "output_type": "execute_result"
    }
   ],
   "source": [
    "#获取正文标题\n",
    "import requests\n",
    "from bs4 import BeautifulSoup\n",
    "from datetime import datetime\n",
    "res=requests.get('http://bbs.tianya.cn/post-stocks-1841155-1.shtml')\n",
    "res.encoding='utf-8'\n",
    "soup=BeautifulSoup(res.text,'html.parser')\n",
    "soup.select('.s_title')[0].text.strip()"
   ]
  },
  {
   "cell_type": "code",
   "execution_count": 75,
   "metadata": {
    "collapsed": false
   },
   "outputs": [],
   "source": [
    "time=soup.select('.atl-info')[0].select('span')[1].text.lstrip('时间：')\n",
    "info=soup.select('.atl-info')[0].select('span')\n",
    "uname=info[0].select('a')[0]['uname']\n",
    "time=datetime.strptime(info[1].text.lstrip('时间：').strip(),'%Y-%m-%d %H:%M:%S').strftime('%Y-%m-%d')\n",
    "clickCounts=info[2].text.strip('点击：')\n",
    "replyCounts=info[3].text.strip('回复：')"
   ]
  },
  {
   "cell_type": "code",
   "execution_count": 77,
   "metadata": {
    "collapsed": true
   },
   "outputs": [],
   "source": [
    "#天涯论坛正文提取抽取函数\n",
    "#获取正文标题\n",
    "import requests\n",
    "from bs4 import BeautifulSoup\n",
    "from datetime import datetime\n",
    "def getTYInfo(bbsurl):\n",
    "    res=requests.get(bbsurl)\n",
    "    res.encoding='utf-8'\n",
    "    soup=BeautifulSoup(res.text,'html.parser')\n",
    "    info=soup.select('.atl-info')[0].select('span')\n",
    "    result={}\n",
    "    result['replyCounts']=info[3].text.strip('回复：')\n",
    "    result['clickCounts']=info[2].text.strip('点击：')\n",
    "    result['time']=datetime.strptime(info[1].text.lstrip('时间：').strip(),'%Y-%m-%d %H:%M:%S').strftime('%Y-%m-%d')\n",
    "    result['uname']=info[0].select('a')[0]['uname']\n",
    "    result['title']=soup.select('.s_title')[0].text.strip()\n",
    "    return result"
   ]
  },
  {
   "cell_type": "code",
   "execution_count": 79,
   "metadata": {
    "collapsed": false
   },
   "outputs": [
    {
     "data": {
      "text/plain": [
       "{'clickCounts': '138969 ',\n",
       " 'replyCounts': '1312',\n",
       " 'time': '2017-04-04',\n",
       " 'title': '西部刑侦，扒一扒那些重口味毁三观的案件，（胆小慎入）',\n",
       " 'uname': '陌上桑离lr'}"
      ]
     },
     "execution_count": 79,
     "metadata": {},
     "output_type": "execute_result"
    }
   ],
   "source": [
    "url='http://bbs.tianya.cn/post-funinfo-7418649-1.shtml'\n",
    "getTYInfo(url)"
   ]
  }
 ],
 "metadata": {
  "kernelspec": {
   "display_name": "Python 3",
   "language": "python",
   "name": "python3"
  },
  "language_info": {
   "codemirror_mode": {
    "name": "ipython",
    "version": 3
   },
   "file_extension": ".py",
   "mimetype": "text/x-python",
   "name": "python",
   "nbconvert_exporter": "python",
   "pygments_lexer": "ipython3",
   "version": "3.6.0"
  }
 },
 "nbformat": 4,
 "nbformat_minor": 2
}
