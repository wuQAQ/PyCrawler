{
 "cells": [
  {
   "cell_type": "code",
   "execution_count": 4,
   "metadata": {
    "collapsed": true
   },
   "outputs": [],
   "source": [
    "#新闻评论数抽取函数\n",
    "import re\n",
    "import json\n",
    "import requests\n",
    "#js抓取新闻评论信息\n",
    "commentURL='http://comment5.news.sina.com.cn/page/info?version=1&format=js&\\\n",
    "channel=gn&newsid=comos-{}&\\\n",
    "group=&compress=0&ie=utf-8&oe=utf-8&page=1&page_size=20&jsvar=loader_1491395188566_53913700'\n",
    "\n",
    "def getCommentCounts(newsurl):\n",
    "    #获取新闻id\n",
    "    m=re.search('doc-i(.+).shtml',newsurl)\n",
    "    newsid=m.group(1)\n",
    "    #根据新闻id获取评论信息\n",
    "    comments=requests.get(commentURL.format(newsid))\n",
    "    #将信息解析为json格式\n",
    "    jd=json.loads(comments.text.strip('var loader_1491395188566_53913 700='))\n",
    "    return jd['result']['count']['total']"
   ]
  },
  {
   "cell_type": "code",
   "execution_count": 5,
   "metadata": {
    "collapsed": false
   },
   "outputs": [
    {
     "data": {
      "text/plain": [
       "14"
      ]
     },
     "execution_count": 5,
     "metadata": {},
     "output_type": "execute_result"
    }
   ],
   "source": [
    "news='http://news.sina.com.cn/c/nd/2017-04-05/doc-ifycwymx3892472.shtml'\n",
    "getCommentCounts(news)"
   ]
  },
  {
   "cell_type": "code",
   "execution_count": 6,
   "metadata": {
    "collapsed": false
   },
   "outputs": [],
   "source": [
    "#新闻内文信息抽取函数\n",
    "import requests\n",
    "from datetime import datetime\n",
    "from bs4 import BeautifulSoup\n",
    "def getNewsDetail(newsurl):\n",
    "    result={}\n",
    "    res=requests.get(newsurl)\n",
    "    res.encoding='utf-8'\n",
    "    soup=BeautifulSoup(res.text,'html.parser')\n",
    "    result['title']=soup.select('#artibodyTitle')\n",
    "    timesource=soup.select('.time-source')[0].contents[0].strip()\n",
    "    result['dt']=datetime.strptime(timesource,'%Y年%m月%d日%H:%M')\n",
    "    result['source']=soup.select('.time-source span a')[0].text\n",
    "    result['article']=' '.join([p.text.strip() for p in soup.select('#artibody p')[:-1]])\n",
    "    result['editor']=soup.select('.article-editor')[0].text.lstrip('责任编辑：')\n",
    "    return result"
   ]
  },
  {
   "cell_type": "code",
   "execution_count": 7,
   "metadata": {
    "collapsed": false
   },
   "outputs": [
    {
     "data": {
      "text/plain": [
       "{'article': '任丘市人民政府 关于进一步加强房地产市场调控的通知 各乡镇政府，办事处，开发区管委会，市政府各部门，各相关单位： 为认真贯彻执行《沧州市人民政府关于强化房地产市场调控的通知》（沧政字〔2017〕11号）和《沧州市人民政府办公室关于促进中心城区房地产市场平稳健康发展的通知》（沧政办字〔2016〕133号）文件精神，结合我市实际，现将有关事项通知如下： 一、实行住房限购政策 实行住房限购的区域为任丘市辖区。 （一）非本地户籍居民家庭已取得居住证且自申请购房之日起前2年内在任丘市累计缴纳24个月及以上个人所得税或社会保险（城镇社会保险）的，限购1套住房且购房首付款比例不低于50%。包括新建商品房和二手住房。 （二）本地户籍居民家庭购买第1套住房，申请商业性个人住房贷款的，首付款比例不低于30%；对拥有1套住房的本地户籍居民家庭，为改善居住条件再次申请商业性个人住房贷款购买住房的，首付款比例不低于50%；本地户籍居民家庭在主城区已拥有2套及以上住房的，暂不得购买住房。 （三）房地产开发企业和房地产经纪机构不得向不符合上述条件的购房人出售住房。违反上述限购规定的，交易部门暂不办理房产交易确认手续，登记部门暂不办理登记手续。 二、加强白洋淀区域稳控 （一）一律暂停办理相关手续。针对沿白洋淀区域（包括鄚州、苟各庄、七间房三个乡镇）内所有商品住宅项目（包括洋房、别墅建设），发改局要暂停办理立项核准手续，国土局要暂停办理用地手续，规划局要暂停办理规划许可手续，住建局要暂停办理施工许可和预售手续。 （二）强化监管。鄚州、苟各庄、七间房乡镇政府和相关职能部门要进一步加大巡查监管力度，坚决杜绝所辖区域内抢占土地、非法建设、非法交易行为的发生，一经发现、严肃处理。 三、严格商品房预销售管理 （一）完善商品住房预售审批审查制度。一是对申请办理预售的商品住房项目申报价格进行合理指导，对不接受指导的商品住房项目，暂不核发商品房预售许可证。二是房地产企业办理预售审批后，须到市发改部门办理商品房明码标价备案。备案后，房地产企业应当按备案价格售房，一房一价，明码标价。对擅自涨价超过备案价格的项目，依法查处并暂停商品房网签资格。 （二）调整房地产项目预售许可政策。一是房地产项目土地或在建工程办理抵押的，在抵押物全部解除抵押前，项目整体暂不得申请办理预售许可；项目已办理预售许可手续的，土地、在建工程均不得再行抵押。二是开发企业投入开发建设的资金达到工程建设总投资的35%以上，方可申请办理预售许可。 四、整顿规范房地产市场 （一）强化各部门联合执法。开展各类专项检查，严查“捂盘惜售、炒卖房号、无证销售、哄抬房价、无地售房”等典型违法违规行为，并将房价涨幅较大的楼盘纳入重点监控。 （二）加强房地产经纪机构监管。房地产经纪机构和从业人员不得炒卖房号，不得在代理过程中赚取差价，不得通过签订“阴阳合同”违规交易。对已取得预售许可尚未取得房屋所有权证的商品房不得代理再转让。税务部门严格控制各类房产交易违规行为。 （三）严厉查处违法违规企业。相关部门要将违法违规行为记入企业信用档案，并在社会信用平台上及时进行公开曝光。对屡教不改的房地产开发企业，由住建部门纳入黑名单，降低资质，并限制在任丘市域范围内参与土地竞拍。对屡教不改的房地产经纪机构，由工商部门吊销营业执照。 五、本通知由住建局负责解释，未尽事宜另行研究，自2017年4月5日起实施。 任丘市人民政府 2017年4月5日',\n",
       " 'dt': datetime.datetime(2017, 4, 5, 15, 28),\n",
       " 'editor': '张迪 ',\n",
       " 'source': '政府网站',\n",
       " 'title': [<h1 cid=\"56044\" docid=\"fycwymx3892472\" id=\"artibodyTitle\">河北任丘:外地人限购一套住房 首付不低于50%</h1>]}"
      ]
     },
     "execution_count": 7,
     "metadata": {},
     "output_type": "execute_result"
    }
   ],
   "source": [
    "newsurl='http://news.sina.com.cn/c/nd/2017-04-05/doc-ifycwymx3892472.shtml'\n",
    "getNewsDetail(newsurl)"
   ]
  }
 ],
 "metadata": {
  "kernelspec": {
   "display_name": "Python 3",
   "language": "python",
   "name": "python3"
  },
  "language_info": {
   "codemirror_mode": {
    "name": "ipython",
    "version": 3
   },
   "file_extension": ".py",
   "mimetype": "text/x-python",
   "name": "python",
   "nbconvert_exporter": "python",
   "pygments_lexer": "ipython3",
   "version": "3.6.0"
  }
 },
 "nbformat": 4,
 "nbformat_minor": 2
}
