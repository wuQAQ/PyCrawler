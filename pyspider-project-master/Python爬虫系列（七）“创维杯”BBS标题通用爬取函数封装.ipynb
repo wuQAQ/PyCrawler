{
 "cells": [
  {
   "cell_type": "code",
   "execution_count": 4,
   "metadata": {
    "collapsed": false
   },
   "outputs": [
    {
     "data": {
      "text/plain": [
       "1"
      ]
     },
     "execution_count": 4,
     "metadata": {},
     "output_type": "execute_result"
    }
   ],
   "source": [
    "#标题普适性检查\n",
    "#测试：标题是h1  #subjectTitle\n",
    "import requests\n",
    "from bs4 import BeautifulSoup\n",
    "res01=requests.get('http://bbs.pcauto.com.cn/topic-12068997.html')\n",
    "soup=BeautifulSoup(res01.text,'html.parser')\n",
    "title=soup.select('h1')[0].text.strip()\n",
    "len(soup.select('h1'))"
   ]
  },
  {
   "cell_type": "code",
   "execution_count": 30,
   "metadata": {
    "collapsed": false
   },
   "outputs": [
    {
     "data": {
      "text/plain": [
       "'[其他]【MP闲置淘淘乐】服饰专区卖家报名'"
      ]
     },
     "execution_count": 30,
     "metadata": {},
     "output_type": "execute_result"
    }
   ],
   "source": [
    "#测试02，这个标题是h2   \\\n",
    "#.bbs-title\n",
    "res02=requests.get('http://bbs.mplife.com/showtopic-1324516.html')\n",
    "soup=BeautifulSoup(res02.text,'html.parser')\n",
    "title=soup.select('h1')[0].text.strip()\n",
    "if len(title)<=0:\n",
    "    title=soup.select('h2')[0].text.strip()\n",
    "title\n",
    "soup.select('.bbs-title h2')[0].text.strip()"
   ]
  },
  {
   "cell_type": "code",
   "execution_count": 39,
   "metadata": {
    "collapsed": false
   },
   "outputs": [
    {
     "data": {
      "text/plain": [
       "'江苏省泰州市高薪招聘安检'"
      ]
     },
     "execution_count": 39,
     "metadata": {},
     "output_type": "execute_result"
    }
   ],
   "source": [
    "#测试03 h1 关键字 subject\n",
    "res03=requests.get('http://bbs.lygbst.cn/forum.php?mod=viewthread&tid=4876466&extra=page%3D1%26filter%3Dsortid%26sortid%3D25')\n",
    "soup=BeautifulSoup(res03.text,'html.parser')\n",
    "title=soup.select('h1')[0].text.strip()\n",
    "if len(title)<=0:\n",
    "    title=soup.select('h2')[0].text.strip()\n",
    "title"
   ]
  },
  {
   "cell_type": "code",
   "execution_count": 62,
   "metadata": {
    "collapsed": false
   },
   "outputs": [
    {
     "data": {
      "text/plain": [
       "'国产动漫，来提名你心中最符合古典美女定义的角色'"
      ]
     },
     "execution_count": 62,
     "metadata": {},
     "output_type": "execute_result"
    }
   ],
   "source": [
    "#测试04 tr td   #msgsubject\n",
    "res04=requests.get('http://bbs.jjwxc.net/showmsg.php?board=3&id=1019672')\n",
    "res04.encoding='GBK'\n",
    "soup=BeautifulSoup(res04.text,'html.parser')\n",
    "\n",
    "title=soup.select('#msgsubject')[0]\n",
    "title.text.strip().lstrip('主题：').rstrip('[102]')"
   ]
  },
  {
   "cell_type": "code",
   "execution_count": 9,
   "metadata": {
    "collapsed": false
   },
   "outputs": [
    {
     "data": {
      "text/plain": [
       "'ISO-8859-1'"
      ]
     },
     "execution_count": 9,
     "metadata": {},
     "output_type": "execute_result"
    }
   ],
   "source": [
    "#测试05：h1 虎扑体育 .bbs-hd-h1 编码IOS\n",
    "res05=requests.get('https://bbs.hupu.com/18904165.html')\n",
    "#res05.encoding='utf-8'\n",
    "soup=BeautifulSoup(res05.text,'html.parser')\n",
    "title=soup.select('h1')[0].text.strip()\n",
    "title\n",
    "res05.encoding"
   ]
  },
  {
   "cell_type": "code",
   "execution_count": 76,
   "metadata": {
    "collapsed": false
   },
   "outputs": [
    {
     "data": {
      "text/plain": [
       "'主题：北风吹来的不只冷气还有老签传串串香加盟的香气'"
      ]
     },
     "execution_count": 76,
     "metadata": {},
     "output_type": "execute_result"
    }
   ],
   "source": [
    "#测试06：华商论坛 h1 #subject_tpc\n",
    "res06=requests.get('http://bbs.hsw.cn/read-htm-tid-18368990.html')\n",
    "res06.encoding='utf-8'\n",
    "soup=BeautifulSoup(res06.text,'html.parser')\n",
    "title=soup.select('h1')[0].text.strip()\n",
    "title"
   ]
  },
  {
   "cell_type": "code",
   "execution_count": 21,
   "metadata": {
    "collapsed": false
   },
   "outputs": [],
   "source": [
    "#测试07：猴岛论坛 h1 #subject_tpc  GB2312  phpwind 出现不能获取页面内容\n",
    "res07=requests.get('https://bbs.houdao.com/r13418976/')\n",
    "soup=BeautifulSoup(res07.text,'html.parser')\n",
    "#title=soup.select('h1')[0].text.strip()"
   ]
  },
  {
   "cell_type": "code",
   "execution_count": 18,
   "metadata": {
    "collapsed": false
   },
   "outputs": [],
   "source": [
    "#和讯论坛  strong   空白 抓取失败\n",
    "res08=requests.get('http://bbs.hexun.com/money/post_84_10765277_1_d.html')\n",
    "res08.encoding='utf-8'\n",
    "soup=BeautifulSoup(res08.text,'html.parser')\n",
    "\n",
    "#title=soup.select('strong')[0].text.strip()"
   ]
  },
  {
   "cell_type": "code",
   "execution_count": 112,
   "metadata": {
    "collapsed": false
   },
   "outputs": [
    {
     "data": {
      "text/plain": [
       "'开心一刻（4.6）：骚年啊 你这是把你媳妇穿身上了吧'"
      ]
     },
     "execution_count": 112,
     "metadata": {},
     "output_type": "execute_result"
    }
   ],
   "source": [
    "#测试09：济南社区论坛 h1  #thread_subject  gbk\n",
    "res08=requests.get('http://bbs.e23.cn/thread-180468227-1-1.html')\n",
    "\n",
    "soup=BeautifulSoup(res08.text,'html.parser')\n",
    "title=soup.select('h1')[0].text.strip()\n",
    "title"
   ]
  },
  {
   "cell_type": "code",
   "execution_count": 7,
   "metadata": {
    "collapsed": false
   },
   "outputs": [
    {
     "data": {
      "text/plain": [
       "'白忙了一天'"
      ]
     },
     "execution_count": 7,
     "metadata": {},
     "output_type": "execute_result"
    }
   ],
   "source": [
    "#测试10：时空网 h1 >a thread_subject\n",
    "res10=requests.get('http://bbs.gxsky.com/thread-13665501-1-1.html')\n",
    "\n",
    "soup=BeautifulSoup(res10.text,'html.parser')\n",
    "#title=soup.select('h1')[0].text.strip()\n",
    "soup.select('#thread_subject')[0].text"
   ]
  },
  {
   "cell_type": "code",
   "execution_count": 8,
   "metadata": {
    "collapsed": false
   },
   "outputs": [
    {
     "data": {
      "text/plain": [
       "'更新完成一指弹那个界面'"
      ]
     },
     "execution_count": 8,
     "metadata": {},
     "output_type": "execute_result"
    }
   ],
   "source": [
    "#测试11：腾讯电脑管家  discuz  #thread_subject\n",
    "res10=requests.get('http://bbs.guanjia.qq.com/forum.php?mod=viewthread&tid=5000457&extra=page%3D1')\n",
    "soup=BeautifulSoup(res10.text,'html.parser')\n",
    "soup.select('h1')[0].text.strip()"
   ]
  },
  {
   "cell_type": "code",
   "execution_count": 3,
   "metadata": {
    "collapsed": false
   },
   "outputs": [
    {
     "data": {
      "text/plain": [
       "['OvL7F1OQEojtPkn5x2xdj1*uYPm*H3mpaOf3rs2M']"
      ]
     },
     "execution_count": 3,
     "metadata": {},
     "output_type": "execute_result"
    }
   ],
   "source": [
    "s = 'text=cssPath:\"http://imgcache.qq.com/ptlogin/v4/style/32\",sig:\"OvL7F1OQEojtPkn5x2xdj1*uYPm*H3mpaOf3rs2M\",clientip:\"82ee3af631dd6ffe\",serverip:\"\",version:\"201404010930\"'\n",
    "import re\n",
    "res = re.findall(r'sig:\"([^\"]+)\"',s)\n",
    "res"
   ]
  },
  {
   "cell_type": "code",
   "execution_count": 6,
   "metadata": {
    "collapsed": false
   },
   "outputs": [
    {
     "name": "stdout",
     "output_type": "stream",
     "text": [
      "请输入所需要的提取信息的bbs的url地址：\n",
      "http://bbs.gxsky.com/thread-13665501-1-1.html\n",
      "白忙了一天\n"
     ]
    }
   ],
   "source": [
    "#获取标题函数封装\n",
    "#所有提取论坛的地址\n",
    "import requests\n",
    "from bs4 import BeautifulSoup\n",
    "\n",
    "\n",
    "def getTitle():\n",
    "    url=input(\"请输入所需要的提取信息的bbs的url地址：\\n\")\n",
    "    res=requests.get(url)\n",
    "    #设置页面编码\n",
    "    if res.encoding=='ISO-8859-1':\n",
    "        res.encoding=='utf-8'\n",
    "    #生成bs对象\n",
    "    soup=BeautifulSoup(res.text,'html.parser')\n",
    "    #判断阿抓取的页面是否为空\n",
    "    if len(soup)==0:\n",
    "        print('抓取页面失败')\n",
    "    else:\n",
    "        if len(soup.select('#thread_subject'))==0:\n",
    "            print('标题的id不是thread_subject')        \n",
    "            print('抓取标题失败')\n",
    "        else:\n",
    "            title=soup.select('#thread_subject')[0].text.strip()\n",
    "            print(title)\n",
    "\n",
    "getTitle()"
   ]
  }
 ],
 "metadata": {
  "kernelspec": {
   "display_name": "Python 3",
   "language": "python",
   "name": "python3"
  },
  "language_info": {
   "codemirror_mode": {
    "name": "ipython",
    "version": 3
   },
   "file_extension": ".py",
   "mimetype": "text/x-python",
   "name": "python",
   "nbconvert_exporter": "python",
   "pygments_lexer": "ipython3",
   "version": "3.6.0"
  }
 },
 "nbformat": 4,
 "nbformat_minor": 2
}
