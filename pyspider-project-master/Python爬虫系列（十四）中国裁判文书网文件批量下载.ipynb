{
 "cells": [
  {
   "cell_type": "code",
   "execution_count": 2,
   "metadata": {
    "collapsed": false
   },
   "outputs": [
    {
     "data": {
      "text/plain": [
       "['本院认为，李秀芬与郭秀艳案外达成和解并申请撤回起诉，符合法律规定。&#xA;依照《中华人民共和国民事诉讼法》第一百四十五条第一款的规定，裁定如下',\n",
       " '本院认为，原告贺某某与被告郑某形成民间借贷法律关系。原告贺某某按照约定借给被告郑某30000元，后原告贺某某向被告郑某多次催讨借款，被告郑某以各种理由拒绝偿还，故被告郑某已构成违约，依法应承担违约责任。对原告贺某某主张要求被告郑某偿还借款30000元，本院予以支持。&#xA;综上所述，依照《中华人民共和国合同法》第一百零七条、《最高人民法院关于审理民间借贷案件适用法律若干规定》第二十六条第一款规定，判决如下',\n",
       " '本院认为，原告李某与被告郑某某买卖关系成立，且合法有效，原告李某按约定向被告郑某某提供机电设备，被告郑某某应向原告李某支付对应的货款，由于被告郑某某未向原告李某支付货款。经原告李某催讨后，被告郑某某仍未支付，被告郑某某已构成违约，依法应承担违约责任。&#xA;综上所述，依照《中华人民共和国合同法》第一百零七条、一百三十条、一百五十九条《中华人民共和国民事诉讼法》第一百四十四条规定，判决如下',\n",
       " '本院认为，被告谭某某申请办理金穗贷记卡，承诺遵守信用卡章程和合约，该协议合法、有效。被告谭某某应遵守约定的义务，在进行信用卡透支后，被告谭某某应按约定的期限偿还借款本息及手续费，现被告逾期不还，被告谭某某已构成违约，应承担全部违约责任。故对原告农行耒阳市支行请求判令被告谭某某偿还贷记卡透支本金36878.08元、利息4400.78元，合计41278.86元（暂算至2016年7月15日止，2016年7月16日至还清之日止的利息、滞纳金、手续费，按中国农业银行金穗贷记卡领用合约和中国农业银行金穗贷记卡章程约定计算）的诉讼请求，予以支持。&#xA;综上所述，依照《中国人民共和国合同法》第一百零七条、第二百零六条、二百零七条规定、《中华人民共和国民事诉讼法》第一百四十四条，判决如下',\n",
       " '本院认为，被告徐某某申请办理金穗贷记卡，承诺遵守信用卡章程和合约，该协议合法、有效。被告徐某某应遵守约定的义务，在进行信用卡透支后，被告徐某某应按约定的期限偿还借款本息及手续费，现被告逾期不还，被告徐某某已构成违约，应承担全部违约责任。故对原告农行耒阳市支行请求判令被告徐某某偿还贷记卡透支本金23999.90元、利息3774.32元、滞纳金1395.69元，合计29169.91元（暂算至2016年10月31日止，2016年12月3日至还清之日止的利息、滞纳金、手续费（取现手续费+消费手续费，按中国农业银行金穗贷记卡领用合约和中国农业银行金穗贷记卡章程约定计算）的诉讼请求，予以支持。&#xA;综上所述，依照《中国人民共和国合同法》第一百零七条、第二百零六条、二百零七条《中华人民共和国》、《中华人民共和国民事诉讼法》第一百四十四条规定，判决如下']"
      ]
     },
     "execution_count": 2,
     "metadata": {},
     "output_type": "execute_result"
    }
   ],
   "source": [
    "import requests as req\n",
    "import re\n",
    "url='http://wenshu.court.gov.cn/List/ListContent?'\n",
    "my_headers={'User-Agent':'Mozilla/5.0 (Windows NT 10.0; WOW64) AppleWebKit/537.36 (KHTML, like Gecko) Chrome/56.0.2924.87 Safari/537.36',\n",
    "                'Referer':'http://wenshu.court.gov.cn/List/List?sorttype=1&conditions=searchWord+2+AJLX++%E6%A1%88%E4%BB%B6%E7%B1%BB%E5%9E%8B:%E6%B0%91%E4%BA%8B%E6%A1%88%E4%BB%B6'\n",
    "               }\n",
    "data={'Param':'案件类型:民事案件', 'Index': 2,'Page':'5','Order':'法院层级','Direction':'asc'}\n",
    "r=req.post(url,headers=my_headers,data=data)\n",
    "raw=r.json()\n",
    "pattern1= re.compile('\"裁判日期\":\"(.*?)\"',re.S)\n",
    "date= re.findall(pattern1,raw)\n",
    "pattern2= re.compile('\"案号\":\"(.*?)\"',re.S)\n",
    "num= re.findall(pattern2,raw)\n",
    "pattern3= re.compile('\"案件名称\":\"(.*?)\"',re.S)\n",
    "title= re.findall(pattern3,raw)\n",
    "pattern4= re.compile('\"裁判要旨段原文\":\"(.*?)\"',re.S)\n",
    "content= re.findall(pattern4,raw)\n",
    "content"
   ]
  }
 ],
 "metadata": {
  "kernelspec": {
   "display_name": "Python 3",
   "language": "python",
   "name": "python3"
  },
  "language_info": {
   "codemirror_mode": {
    "name": "ipython",
    "version": 3
   },
   "file_extension": ".py",
   "mimetype": "text/x-python",
   "name": "python",
   "nbconvert_exporter": "python",
   "pygments_lexer": "ipython3",
   "version": "3.6.0"
  }
 },
 "nbformat": 4,
 "nbformat_minor": 2
}
