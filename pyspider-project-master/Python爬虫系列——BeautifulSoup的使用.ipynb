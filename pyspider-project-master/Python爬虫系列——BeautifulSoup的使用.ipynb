{
 "cells": [
  {
   "cell_type": "code",
   "execution_count": 3,
   "metadata": {
    "collapsed": false
   },
   "outputs": [
    {
     "name": "stdout",
     "output_type": "stream",
     "text": [
      "find's return type is  <class 'bs4.element.Tag'>\n",
      "find's content is <p class=\"title\"><b>The Dormouse's story</b></p>\n",
      "find's Tag Name is  p\n",
      "find's Attribute(class) is  ['title']\n",
      "NavigableString is： The Dormouse's story\n"
     ]
    }
   ],
   "source": [
    "from bs4 import BeautifulSoup\n",
    "import re\n",
    "\n",
    "html_doc = \"\"\"\n",
    "<html><head><title>The Dormouse's story</title></head>\n",
    "<body>\n",
    "<p class=\"title\"><b>The Dormouse's story</b></p>\n",
    "<p class=\"story\">Once upon a time there were three little sisters; and their names were\n",
    "<a href=\"http://example.com/elsie\" class=\"sister\" id=\"link1\">Elsie</a>,\n",
    "<a href=\"http://example.com/lacie\" class=\"sister\" id=\"link2\">Lacie</a> and\n",
    "<a href=\"http://example.com/tillie\" class=\"sister\" id=\"link3\">Tillie</a>;\n",
    "and they lived at the bottom of a well.</p>\n",
    "\n",
    "<p id=\"subject\">...</p>\n",
    "<p class=\"threadsubject\">...</p>\n",
    "<p class=\"asubject\">...</p>\n",
    "\n",
    "<p class=\"story\">...</p>\n",
    "\"\"\"\n",
    "soup = BeautifulSoup(html_doc, 'lxml')  #声明BeautifulSoup对象\n",
    "find = soup.find('p')  #使用find方法查到第一个p标签\n",
    "print(\"find's return type is \", type(find))  #输出返回值类型\n",
    "print(\"find's content is\", find)  #输出find获取的值\n",
    "print(\"find's Tag Name is \", find.name)  #输出标签的名字\n",
    "print(\"find's Attribute(class) is \", find['class'])  #输出标签的class属性值\n",
    "print('NavigableString is：', find.string)#标签内的文本内容\n"
   ]
  },
  {
   "cell_type": "code",
   "execution_count": 8,
   "metadata": {
    "collapsed": false
   },
   "outputs": [
    {
     "data": {
      "text/plain": [
       "<p class=\"title\"><b>The Dormouse's story</b></p>"
      ]
     },
     "execution_count": 8,
     "metadata": {},
     "output_type": "execute_result"
    }
   ],
   "source": [
    "#BeautifulSoup的遍历方法\n",
    "soup.head#\n",
    "soup.title.string#\n",
    "soup.p#查找第一个p标签"
   ]
  },
  {
   "cell_type": "code",
   "execution_count": 20,
   "metadata": {
    "collapsed": false
   },
   "outputs": [
    {
     "name": "stdout",
     "output_type": "stream",
     "text": [
      "[<p class=\"threadsubject\">...</p>]\n",
      "<p class=\"threadsubject\">...</p>\n",
      "...\n"
     ]
    }
   ],
   "source": [
    "subject=soup.select('.threadsubject')\n",
    "print(subject)\n",
    "print(subject[0])\n",
    "print(subject[0].text)"
   ]
  },
  {
   "cell_type": "code",
   "execution_count": 29,
   "metadata": {
    "collapsed": false
   },
   "outputs": [
    {
     "name": "stdout",
     "output_type": "stream",
     "text": [
      "[<a class=\"sister\" href=\"http://example.com/elsie\" id=\"link1\">Elsie</a>, <a class=\"sister\" href=\"http://example.com/lacie\" id=\"link2\">Lacie</a>, <a class=\"sister\" href=\"http://example.com/tillie\" id=\"link3\">Tillie</a>]\n",
      "<class 'bs4.element.ResultSet'>\n",
      "<a class=\"sister\" href=\"http://example.com/elsie\" id=\"link1\">Elsie</a>\n",
      "<a class=\"sister\" href=\"http://example.com/lacie\" id=\"link2\">Lacie</a>\n",
      "<a class=\"sister\" href=\"http://example.com/tillie\" id=\"link3\">Tillie</a>\n"
     ]
    }
   ],
   "source": [
    "all_p=soup.find_all('a',class_='sister')\n",
    "print(all_p)\n",
    "print(type(all_p))\n",
    "for a in all_p:\n",
    "    print(a)"
   ]
  }
 ],
 "metadata": {
  "kernelspec": {
   "display_name": "Python 3",
   "language": "python",
   "name": "python3"
  },
  "language_info": {
   "codemirror_mode": {
    "name": "ipython",
    "version": 3
   },
   "file_extension": ".py",
   "mimetype": "text/x-python",
   "name": "python",
   "nbconvert_exporter": "python",
   "pygments_lexer": "ipython3",
   "version": "3.6.0"
  }
 },
 "nbformat": 4,
 "nbformat_minor": 2
}
