{
 "cells": [
  {
   "cell_type": "code",
   "execution_count": 1,
   "metadata": {
    "collapsed": false
   },
   "outputs": [],
   "source": [
    "import requests\n",
    "from bs4 import BeautifulSoup\n",
    "res=requests.get('http://news.sina.com.cn/china/')\n",
    "res.encoding='utf-8'\n",
    "soup=BeautifulSoup(res.text,'html.parser')"
   ]
  },
  {
   "cell_type": "code",
   "execution_count": 2,
   "metadata": {
    "collapsed": false
   },
   "outputs": [
    {
     "name": "stdout",
     "output_type": "stream",
     "text": [
      "四川宜宾珙县发生3.3级地震 震源深度12千米 http://news.sina.com.cn/c/nd/2017-04-05/doc-ifyecezv2186912.shtml 4月5日 18:42\n",
      "保定满城区停向1套及以上住房的非户籍人口售房 http://news.sina.com.cn/c/nd/2017-04-05/doc-ifycwyns4958222.shtml 4月5日 18:07\n",
      "叙利亚再起化武疑云 外交部:客观公正调查此事 http://news.sina.com.cn/c/nd/2017-04-05/doc-ifycwyns4950651.shtml 4月5日 17:48\n",
      "中方回应日中学加入刺枪术:应与侵略划清界线 http://news.sina.com.cn/c/nd/2017-04-05/doc-ifycwyns4948620.shtml 4月5日 17:43\n",
      "浙江乐清一处采石洞发生坍塌 2人被困 http://news.sina.com.cn/o/2017-04-05/doc-ifyeayzu6780646.shtml 4月5日 16:45\n",
      "货运版“滴滴”来了，浙江发出首批经营许可证 http://news.sina.com.cn/c/nd/2017-04-05/doc-ifycwyns4926010.shtml 4月5日 16:28\n",
      "环保部公布一季度京津冀空气状况：石家庄垫底 http://news.sina.com.cn/o/2017-04-05/doc-ifyeayzu6768173.shtml 4月5日 15:38\n",
      "河南沁阳警方回应交警收黑钱：查证属实后严处 http://news.sina.com.cn/o/2017-04-05/doc-ifyeayzu6768170.shtml 4月5日 15:38\n",
      "北京“大七环”再进一步 总投资120多亿元 http://news.sina.com.cn/c/nd/2017-04-05/doc-ifycwyns4911863.shtml 4月5日 15:33\n",
      "河北任丘:外地人限购一套住房 首付不低于50% http://news.sina.com.cn/c/nd/2017-04-05/doc-ifycwymx3892472.shtml 4月5日 15:28\n",
      "河北雄安新区安新县冻结户籍变更 居民无法离婚 http://news.sina.com.cn/c/nd/2017-04-05/doc-ifycwymx3936714.shtml 4月5日 17:57\n",
      "雄安新区“落地”后的90个小时里 发生了什么？ http://news.sina.com.cn/c/nd/2017-04-05/doc-ifycwyns4952677.shtml 4月5日 17:53\n",
      "辽宁铁岭宣传部长王志勇原副市长郭治鑫被查 http://news.sina.com.cn/c/nd/2017-04-05/doc-ifycwymx3934487.shtml 4月5日 17:53\n",
      "叙利亚再起化武疑云 外交部:客观公正调查此事 http://news.sina.com.cn/c/nd/2017-04-05/doc-ifycwyns4950651.shtml 4月5日 17:48\n",
      "中方回应日中学加入刺枪术:应与侵略划清界线 http://news.sina.com.cn/c/nd/2017-04-05/doc-ifycwyns4948620.shtml 4月5日 17:43\n",
      "军报：领导发言念错字没人敢说 仿佛皇帝的新衣 http://news.sina.com.cn/c/nd/2017-04-05/doc-ifycwymx3926610.shtml 4月5日 17:33\n",
      "中方回应印度邀达赖窜访藏南:违背承诺挑起争端 http://news.sina.com.cn/c/nd/2017-04-05/doc-ifycwymx3914027.shtml 4月5日 16:51\n",
      "浙江乐清一处采石洞发生坍塌 2人被困 http://news.sina.com.cn/o/2017-04-05/doc-ifyeayzu6780646.shtml 4月5日 16:45\n",
      "货运版“滴滴”来了，浙江发出首批经营许可证 http://news.sina.com.cn/c/nd/2017-04-05/doc-ifycwyns4926010.shtml 4月5日 16:28\n",
      "河南沁阳警方查实交警收黑钱 将处理涉事者 http://news.sina.com.cn/o/2017-04-05/doc-ifyeayzu6775606.shtml 4月5日 16:19\n",
      "黄建发任中共四川省委常委 http://news.sina.com.cn/c/nd/2017-04-05/doc-ifycwyns4918441.shtml 4月5日 16:01\n",
      "雄安新区周边或全面限购 严打违规建设私下交易 http://news.sina.com.cn/c/nd/2017-04-05/doc-ifycwymx3899009.shtml 4月5日 15:57\n",
      "环保部公布一季度京津冀空气状况：石家庄垫底 http://news.sina.com.cn/o/2017-04-05/doc-ifyeayzu6768173.shtml 4月5日 15:38\n",
      "河南沁阳警方回应交警收黑钱：查证属实后严处 http://news.sina.com.cn/o/2017-04-05/doc-ifyeayzu6768170.shtml 4月5日 15:38\n",
      "北京“大七环”再进一步 总投资120多亿元 http://news.sina.com.cn/c/nd/2017-04-05/doc-ifycwyns4911863.shtml 4月5日 15:33\n",
      "河北任丘:外地人限购一套住房 首付不低于50% http://news.sina.com.cn/c/nd/2017-04-05/doc-ifycwymx3892472.shtml 4月5日 15:28\n",
      "新疆阿克陶高薪聘600名巡防员：要反对民族分裂 http://news.sina.com.cn/c/nd/2017-04-05/doc-ifycwyns4907596.shtml 4月5日 15:17\n",
      "这部反腐大剧为何燃爆荧屏 总制片人导演告诉你 http://news.sina.com.cn/c/nd/2017-04-05/doc-ifycwyns4899488.shtml 4月5日 14:50\n",
      "两司机开斗气车酿擦挂事故 后方车辆大量积压 http://news.sina.com.cn/c/2017-04-05/doc-ifycwyxr9442836.shtml 4月5日 14:42\n",
      "北京上半年用人缺口8000人 批发零售等最缺人 http://news.sina.com.cn/c/2017-04-05/doc-ifycwyxr9441422.shtml 4月5日 14:33\n",
      "重庆整治货车超限 违法未及时处理者禁入高速 http://news.sina.com.cn/c/2017-04-05/doc-ifyeayzu6756707.shtml 4月5日 14:32\n",
      "福建惠安2伙男子深夜持刀火拼 致1人死亡 http://news.sina.com.cn/c/nd/2017-04-05/doc-ifycwyns4892315.shtml 4月5日 14:20\n",
      "台湾旅客可凭“台胞证”入境澳门 最多逗留30日 http://news.sina.com.cn/o/2017-04-05/doc-ifycwyxr9441595.shtml 4月5日 14:34\n",
      "台湾逾百家网站遭黑客攻击 http://news.sina.com.cn/o/2017-04-05/doc-ifyeayzu6755367.shtml 4月5日 14:24\n",
      "日媒称美国将对台军售 台官员:不需要萨德 http://news.sina.com.cn/c/2017-04-05/doc-ifycwyxr9434502.shtml 4月5日 13:52\n",
      "台湾警察制服近30年未变 “警政署”将变革样式 http://news.sina.com.cn/c/2017-04-05/doc-ifycwyxr9429419.shtml 4月5日 13:12\n",
      "台“内政部长”:蒋介石塑像注意事项已不合时宜 http://news.sina.com.cn/c/2017-04-05/doc-ifycwyxr9416307.shtml 4月5日 11:41\n",
      "“绿委”批两蒋陵寝浪费 网友:养无耻官员浪费 http://news.sina.com.cn/c/2017-04-05/doc-ifycwyxr9413249.shtml 4月5日 11:26\n",
      "蒋介石逝世42周年 马英九洪秀柱先后谒陵(图) http://news.sina.com.cn/c/2017-04-05/doc-ifycwyxr9411113.shtml 4月5日 11:16\n",
      "民进党前党工危害国家安全被捕 其妻将赴大陆 http://news.sina.com.cn/c/2017-04-05/doc-ifyeayzu6726424.shtml 4月5日 11:11\n",
      "22名“太阳花”被告无罪 台教授:看法官怎样掰 http://news.sina.com.cn/c/2017-04-05/doc-ifycwyxr9409083.shtml 4月5日 11:03\n",
      "香港飞上海客机起飞前漏油 原因正在调查 http://news.sina.com.cn/o/2017-04-05/doc-ifyeayzu6724630.shtml 4月5日 11:01\n",
      "台湾在美“代表处”寻求改名碰壁 高官勃然大怒 http://news.sina.com.cn/c/2017-04-05/doc-ifycwyxr9407896.shtml 4月5日 10:56\n",
      "港媒:逾4成港童哮喘拒用类固醇 家长反信偏方 http://news.sina.com.cn/o/2017-04-05/doc-ifyeayzu6722363.shtml 4月5日 10:46\n",
      "连胜文批柯文哲:贬低香港是见识短浅信口开河 http://news.sina.com.cn/c/2017-04-05/doc-ifycwunr8808299.shtml 4月5日 10:27\n",
      "蒋介石逝世42周年 马英九赴慈湖谒陵(图) http://news.sina.com.cn/o/2017-04-05/doc-ifycwyxr9397487.shtml 4月5日 09:55\n",
      "蔡英文称台湾越来越好玩 被旅游业者批别吹牛 http://news.sina.com.cn/c/2017-04-05/doc-ifycwyxr9395785.shtml 4月5日 09:41\n",
      "台媒披露军舰坟场 退役舰被当作靶舰重复使用 http://news.sina.com.cn/c/2017-04-05/doc-ifycwunr8796484.shtml 4月5日 09:16\n",
      "国民党前“立委”:美国一定会出卖台湾 http://news.sina.com.cn/c/2017-04-05/doc-ifycwunr8793546.shtml 4月5日 09:01\n",
      "港“高考”通识科没考政治 教育会长:放下包袱 http://news.sina.com.cn/c/2017-04-05/doc-ifycwyxr9365546.shtml 4月5日 02:14\n",
      "陆客减少 蔡英文求全民拉客游台被讽\"有梦最美\" http://news.sina.com.cn/c/2017-04-05/doc-ifycwyxr9364831.shtml 4月5日 02:03\n",
      "台原住民成立议会 称与台当局为\"准国与国\"关系 http://news.sina.com.cn/c/2017-04-05/doc-ifycwunr8769160.shtml 4月5日 01:57\n",
      "专家:美将中国南海维权视为挑战其海洋霸权 http://news.sina.com.cn/c/2017-04-05/doc-ifycwunr8796524.shtml 4月5日 09:16\n",
      "媒体评反腐剧热播：不是尺度大 是贪官太出格 http://news.sina.com.cn/c/zs/2017-04-05/doc-ifycwunr8769564.shtml 4月5日 02:07\n",
      "人民日报:雄安新区绝不会是炒房资本竞逐的乐园 http://news.sina.com.cn/c/zs/2017-04-05/doc-ifycwymx3760661.shtml 4月5日 00:16\n",
      "专家释疑:采暖季已结束为何华北仍有空气重污染 http://news.sina.com.cn/o/2017-04-03/doc-ifycwyxr9263931.shtml 4月3日 13:27\n",
      "专家:设雄安新区是新时期区域发展重大战略举措 http://news.sina.com.cn/o/2017-04-03/doc-ifycwyxr9232677.shtml 4月3日 00:36\n",
      "建设雄安新区这件大事怎么干 这三个方面很重要 http://news.sina.com.cn/o/2017-04-02/doc-ifycwunr8625617.shtml 4月2日 20:42\n",
      "媒体:设立雄安新区不是为迁都 http://news.sina.com.cn/o/2017-04-02/doc-ifycwunr8621761.shtml 4月2日 19:37\n",
      "军报:一些人受郭徐流毒影响政治上当“两面人” http://news.sina.com.cn/c/zs/2017-04-02/doc-ifycwyns4324403.shtml 4月2日 05:34\n",
      "雄安新区横空出世：堪比深圳特区 还有啥不一样 http://news.sina.com.cn/o/2017-04-02/doc-ifycwyxr9166318.shtml 4月2日 01:38\n",
      "24省份下月举行公务员省考 政策有何变化？ http://news.sina.com.cn/c/nd/2017-03-28/doc-ifycspxp0201786.shtml 3月28日 17:42\n",
      "35所高校申请这本科新专业获批 人才缺口上百万 http://news.sina.com.cn/o/2017-03-28/doc-ifycspxp0155012.shtml 3月28日 13:06\n",
      "全国91人被取消“中国陶瓷艺术大师”称号 http://news.sina.com.cn/c/nd/2017-03-28/doc-ifycstww1541191.shtml 3月28日 11:46\n",
      "美智库再炒南海岛礁建设:战机可随时进驻 http://news.sina.com.cn/c/nd/2017-03-28/doc-ifycspxp0141927.shtml 3月28日 11:30\n",
      "学者:埃及复制中国样板欲改革开放 望中国援手 http://news.sina.com.cn/o/2017-03-28/doc-ifycsukm3892597.shtml 3月28日 07:59\n",
      "军媒至少10次提泄密:航母不能乱拍外卖不能瞎点 http://news.sina.com.cn/c/nd/2017-03-28/doc-ifycstww1478235.shtml 3月28日 07:53\n",
      "媒体:共享单车一车多押 40亿元押金谁来监管 http://news.sina.com.cn/o/2017-03-28/doc-ifycspxp0085469.shtml 3月28日 04:40\n",
      "中泰高铁或因翻译问题推迟？ 专家:不影响进展 http://news.sina.com.cn/o/2017-03-28/doc-ifycsukm3876133.shtml 3月28日 04:30\n",
      "英媒:中国超新加坡成马来西亚房地产最大投资者 http://news.sina.com.cn/o/2017-03-28/doc-ifycspxp0082016.shtml 3月28日 02:34\n",
      "多省份明确任务清单 加速清理处置“僵尸企业” http://news.sina.com.cn/c/nd/2017-03-28/doc-ifycstww1460132.shtml 3月28日 02:28\n",
      "24省份下月同日举行公务员省考 招录规模近12万 http://news.sina.com.cn/o/2017-03-28/doc-ifycsukm3868504.shtml 3月28日 00:31\n",
      "媒体评“辱母杀人”:没亲历过被追债不知其可怕 http://news.sina.com.cn/c/2017-03-26/doc-ifycsukm3713357.shtml 3月26日 20:18\n",
      "媒体谈“刀刺辱母者案”评论上亿:请珍惜民意 http://news.sina.com.cn/c/sd/2017-03-26/doc-ifycstww1125704.shtml 3月26日 16:04\n",
      "大马沉船事故确认7名苏州游客身份 1死1失联 http://news.sina.com.cn/c/sd/2017-01-31/doc-ifxzyxmu8444643.shtml 1月31日 19:12\n",
      "中央时隔17年再下文加强政法队伍建设 有何用意 http://news.sina.com.cn/o/2017-01-19/doc-ifxzunxf1377803.shtml 1月19日 00:01\n",
      "哈萨克斯坦人集会反对姑娘嫁中国人 怕他们分地 http://news.sina.com.cn/o/2017-01-17/doc-ifxzqnva3778799.shtml 1月17日 01:59\n",
      "美没收中国红通3号人物乔建军前妻赵世兰房产 http://news.sina.com.cn/c/sd/2017-01-12/doc-ifxzqnip0848945.shtml 1月12日 16:36\n",
      "中科院最美的玫瑰走了 她当得起这一声“先生” http://news.sina.com.cn/c/sd/2017-01-12/doc-ifxzqnip0817768.shtml 1月12日 13:50\n",
      "落马贪官人大代表职务 为何有的请辞有的被罢免 http://news.sina.com.cn/c/sd/2016-12-16/doc-ifxytqqn8780142.shtml 12月16日 21:53\n",
      "大米走私链条曝光:进行抛光搀兑后销往多地市场 http://news.sina.com.cn/c/sd/2016-12-05/doc-ifxyicnf1572611.shtml 12月5日 08:20\n",
      "江苏广电总台原女台长被带走调查 疑涉经济问题 http://news.sina.com.cn/c/sd/2016-12-02/doc-ifxyhwyy0408568.shtml 12月1日 19:23\n",
      "小鱼塘兽药失禁 多地水产均曾检出孔雀石绿(图) http://news.sina.com.cn/c/sd/2016-11-29/doc-ifxyawxa3005371.shtml 11月29日 03:39\n",
      "国安部长任中政委委员 曾弃清华北大选这所大学 http://news.sina.com.cn/c/sd/2016-11-29/doc-ifxyasmv2125402.shtml 11月28日 23:53\n",
      "雾霾中现耐药菌人类将面临无药可医？揭秘真相 http://news.sina.com.cn/c/sd/2016-11-28/doc-ifxyawmm3624224.shtml 11月28日 11:35\n",
      "舰载机飞行员牺牲细节:4.4秒生死瞬间欲救战机 http://news.sina.com.cn/c/sd/2016-11-28/doc-ifxyawxa2907507.shtml 11月28日 07:50\n",
      "贵州童工多因贫困外出打工 有时连吃盐都成问题 http://news.sina.com.cn/o/2016-11-28/doc-ifxyasmv2025198.shtml 11月28日 05:41\n",
      "湖南从严推进县乡人大换届选举:铭记衡阳案教训 http://news.sina.com.cn/c/sd/2016-11-27/doc-ifxyawxa2866597.shtml 11月27日 14:01\n",
      "北京国I国Ⅱ车辆明年2月15日起五环内限行 http://news.sina.com.cn/c/sd/2016-11-21/doc-ifxxwrwh4831425.shtml 11月21日 15:00\n",
      "北京重污染应急预案为何5年4版本 http://news.sina.com.cn/c/2016-11-21/doc-ifxxwsix4256007.shtml 11月21日 14:44\n",
      "中央督察组:黑龙江自然保护区违建问题严重 http://news.sina.com.cn/c/2016-11-15/doc-ifxxsmuu5714118.shtml 11月15日 11:47\n",
      "这些贪官为什么被判终身监禁 http://news.sina.com.cn/c/sd/2016-11-15/doc-ifxxsmic6290399.shtml 11月15日 07:16\n"
     ]
    }
   ],
   "source": [
    "for news in soup.select('.news-item'):\n",
    "    if len(news.select('h2'))>0:\n",
    "         h2=news.select('h2')[0].text\n",
    "         a=news.select('a')[0]['href']\n",
    "         time=news.select('.time')[0].text\n",
    "         print(h2,a,time)"
   ]
  }
 ],
 "metadata": {
  "kernelspec": {
   "display_name": "Python 3",
   "language": "python",
   "name": "python3"
  },
  "language_info": {
   "codemirror_mode": {
    "name": "ipython",
    "version": 3
   },
   "file_extension": ".py",
   "mimetype": "text/x-python",
   "name": "python",
   "nbconvert_exporter": "python",
   "pygments_lexer": "ipython3",
   "version": "3.6.0"
  }
 },
 "nbformat": 4,
 "nbformat_minor": 2
}
